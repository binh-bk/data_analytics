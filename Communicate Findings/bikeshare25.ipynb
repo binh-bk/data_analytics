{
 "cells": [
  {
   "cell_type": "markdown",
   "metadata": {},
   "source": [
    "# Communicate Data Findings: Ford GoBike\n",
    "## Data Analyst Nanodegree\n",
    "- Binh Nguyen\n",
    "- December 21, 2019"
   ]
  },
  {
   "cell_type": "markdown",
   "metadata": {},
   "source": [
    "# Table of contents\n",
    "\n",
    "### <a href=\"#intro\">1. Introduction</a>\n",
    "### <a href=\"#download_data\">2. Download data</a>\n",
    "### <a href=\"#assesing_data\">3. Data Exploratory</a>\n",
    "### <a href=\"#assesing_data\">4. Visualize Data</a>\n",
    "\n",
    "<a href=\"#use_rate\">**1. How the use rate of Ford GoBike?**</a>\n",
    "\n",
    "<a href=\"#duration\">**2. What is riding pattern between Customer and Subscriber?**</a>\n",
    "\n",
    "<a href=\"#riding_pattern\">**3. What is riding pattern between Customer and Subscriber?**</a>\n",
    "\n",
    "<a href=\"#time_speed\">**4. What is duration ride between Customer and Subscriber?**<a>\n",
    "  \n",
    "\n",
    "<a href=\"#freq_station\">**5. Where are most used stations?**<a>\n",
    "\n",
    "### <a href=\"#summary\">5. Summary</a>"
   ]
  },
  {
   "cell_type": "markdown",
   "metadata": {},
   "source": [
    "<a id=\"intro\"></a>\n",
    "# 1. Introduction"
   ]
  },
  {
   "cell_type": "markdown",
   "metadata": {},
   "source": [
    "[Ford]: https://www.voxer.com/blog/wp-content/uploads/2017/08/99bd3_gobike_launch_05.jpg"
   ]
  },
  {
   "cell_type": "markdown",
   "metadata": {},
   "source": [
    "![ForD GoBike](https://www.voxer.com/blog/wp-content/uploads/2017/08/99bd3_gobike_launch_05.jpg)"
   ]
  },
  {
   "cell_type": "markdown",
   "metadata": {},
   "source": [
    "- With increasing efforts to provide less-energy intensive and reduce carbon food print, sharing transportion seems a feasible option. Bike sharing in large metropolitans in US aims at the angle. Analyzing data of bike riding patterns provide some insights at data level, and some implications to imporove user experience and system management.\n",
    "\n",
    "- In this report, we will explore dataset covers the [greater Bay Area](https://s3.amazonaws.com/baywheels-data/index.html) which includes the Downtown San Francisco, East Bay and San Jose . As of January of 2018, there is 2600 bicycles and 262 stations in [this area](https://en.wikipedia.org/wiki/Bay_Wheels). The Ford GoBike was acquired by Lyft and renamed to Bay Wheels in July 2019. \n",
    "\n",
    "- The system of bike sharing aims at modern lifestyle with unclok and docking bike with a app on mobile phone. The new ebike design added to system and the \"classic\" bike is also kept operated ([Lyft])(https://www.lyft.com/bikes/bay-wheels/meet-our-bikes).\n",
    "\n",
    "- Other cities has hosted bike-sharing, the available data can be found [here](https://github.com/BetaNYC/Bike-Share-Data-Best-Practices/wiki/Bike-Share-Data-Systems) and [here](https://www.bikeshare.com/data/)"
   ]
  },
  {
   "cell_type": "code",
   "execution_count": 1,
   "metadata": {
    "ExecuteTime": {
     "end_time": "2019-12-21T11:41:05.395489Z",
     "start_time": "2019-12-21T11:41:05.389393Z"
    }
   },
   "outputs": [],
   "source": [
    "import warnings\n",
    "warnings.filterwarnings('ignore')"
   ]
  },
  {
   "cell_type": "code",
   "execution_count": 2,
   "metadata": {
    "ExecuteTime": {
     "end_time": "2019-12-21T11:41:09.409397Z",
     "start_time": "2019-12-21T11:41:07.898433Z"
    }
   },
   "outputs": [],
   "source": [
    "import requests\n",
    "from bs4 import BeautifulSoup as soup\n",
    "import os\n",
    "import pandas as pd\n",
    "import matplotlib.pyplot as plt\n",
    "import seaborn as sns\n",
    "import numpy as np\n",
    "plt.style.use('fivethirtyeight')\n",
    "sns.set_context(\"notebook\", font_scale=1.3)\n",
    "%matplotlib inline"
   ]
  },
  {
   "cell_type": "code",
   "execution_count": 31,
   "metadata": {
    "ExecuteTime": {
     "end_time": "2019-12-21T13:30:39.538327Z",
     "start_time": "2019-12-21T13:30:39.532958Z"
    }
   },
   "outputs": [],
   "source": [
    "# https://stackoverflow.com/questions/12444716/how-do-i-set-the-figure-title-and-axes-labels-font-size-in-matplotlib"
   ]
  },
  {
   "cell_type": "code",
   "execution_count": 32,
   "metadata": {
    "ExecuteTime": {
     "end_time": "2019-12-21T13:30:43.282146Z",
     "start_time": "2019-12-21T13:30:43.275871Z"
    }
   },
   "outputs": [],
   "source": [
    "params = {'legend.fontsize': 'x-large',\n",
    "          'figure.figsize': (15, 5),\n",
    "         'axes.labelsize': 'x-large',\n",
    "         'axes.titlesize':'x-large',\n",
    "         'xtick.labelsize':'x-large',\n",
    "         'ytick.labelsize':'x-large'}\n",
    "plt.rcParams.update(params)"
   ]
  },
  {
   "cell_type": "markdown",
   "metadata": {},
   "source": [
    "<a id='download_data'></a>\n",
    "# 2. Download data"
   ]
  },
  {
   "cell_type": "markdown",
   "metadata": {},
   "source": [
    "## 2.1 Crawl the data files in csv format"
   ]
  },
  {
   "cell_type": "code",
   "execution_count": 5,
   "metadata": {},
   "outputs": [],
   "source": [
    "# URL contains the data\n",
    "base_url = 'https://s3.amazonaws.com/baywheels-data'"
   ]
  },
  {
   "cell_type": "code",
   "execution_count": 6,
   "metadata": {},
   "outputs": [],
   "source": [
    "# get the zip files using html parsing\n",
    "page = requests.get(base_url)\n",
    "if page.status_code == 200:\n",
    "    page_ = soup(page.text)\n",
    "    links = page_.find_all('key')\n",
    "    links = [link.text for link in links if 'csv' in link.text]"
   ]
  },
  {
   "cell_type": "code",
   "execution_count": 7,
   "metadata": {},
   "outputs": [],
   "source": [
    "def make_link(base_, file_):\n",
    "    return os.path.join(base_, file_)"
   ]
  },
  {
   "cell_type": "code",
   "execution_count": 8,
   "metadata": {},
   "outputs": [
    {
     "data": {
      "text/plain": [
       "'https://s3.amazonaws.com/baywheels-data/2017-fordgobike-tripdata.csv'"
      ]
     },
     "execution_count": 8,
     "metadata": {},
     "output_type": "execute_result"
    }
   ],
   "source": [
    "# make a full http links for downloading\n",
    "links_full = [make_link(base_url, link) for link in links]\n",
    "links_full[0]"
   ]
  },
  {
   "cell_type": "code",
   "execution_count": 9,
   "metadata": {},
   "outputs": [],
   "source": [
    "# this function download cvs.zip to a temporary folder\n",
    "def download_file(base_dir, tmp_dir, url):\n",
    "    local_filename = url.split('/')[-1]\n",
    "    local_filename = os.path.join(base_dir, tmp_dir, local_filename)\n",
    "    with requests.get(url, stream=True) as r:\n",
    "        r.raise_for_status()\n",
    "        with open(local_filename, 'wb') as f:\n",
    "            for chunk in r.iter_content(chunk_size=8192): \n",
    "                if chunk:\n",
    "                    f.write(chunk)\n",
    "    return local_filename"
   ]
  },
  {
   "cell_type": "code",
   "execution_count": 16,
   "metadata": {},
   "outputs": [
    {
     "name": "stdout",
     "output_type": "stream",
     "text": [
      "/tmp/zipfiles\n",
      "created folder /tmp/zipfiles\n"
     ]
    }
   ],
   "source": [
    "# make a temporary folder\n",
    "base_dir = '/tmp'\n",
    "zip_folder = \"zipfiles\"\n",
    "csv_folder = 'csv'\n",
    "zip_f = os.path.join(base_dir, zip_folder)\n",
    "csv_f = os.path.join(base_dir, csv_folder)\n",
    "print(zip_f)\n",
    "if not os.path.isdir(zip_f):\n",
    "    os.makedirs(zip_f)\n",
    "    print(f'created folder {zip_f}')\n",
    "if not os.path.isdir(csv_f):\n",
    "    os.makedirs(csv_f)\n",
    "    print(f'created folder {csv_f}')"
   ]
  },
  {
   "cell_type": "code",
   "execution_count": 11,
   "metadata": {
    "code_folding": []
   },
   "outputs": [
    {
     "name": "stdout",
     "output_type": "stream",
     "text": [
      "2017-fordgobike-tripdata.csv\t    201812-fordgobike-tripdata.csv.zip\r\n",
      "201801-fordgobike-tripdata.csv.zip  201901-fordgobike-tripdata.csv.zip\r\n",
      "201802-fordgobike-tripdata.csv.zip  201902-fordgobike-tripdata.csv.zip\r\n",
      "201803-fordgobike-tripdata.csv.zip  201903-fordgobike-tripdata.csv.zip\r\n",
      "201804-fordgobike-tripdata.csv.zip  201904-fordgobike-tripdata.csv.zip\r\n",
      "201805-fordgobike-tripdata.csv.zip  201905-baywheels-tripdata.csv.zip\r\n",
      "201806-fordgobike-tripdata.csv.zip  201906-baywheels-tripdata.csv.zip\r\n",
      "201807-fordgobike-tripdata.csv.zip  201907-baywheels-tripdata.csv.zip\r\n",
      "201808-fordgobike-tripdata.csv.zip  201908-baywheels-tripdata.csv.zip\r\n",
      "201809-fordgobike-tripdata.csv.zip  201909-baywheels-tripdata.csv.zip\r\n",
      "201810-fordgobike-tripdata.csv.zip  201910-baywheels-tripdata.csv.zip\r\n",
      "201811-fordgobike-tripdata.csv.zip\r\n"
     ]
    }
   ],
   "source": [
    "# download the cvs file. It will take 10-20 minutes and few hundreds MBs\n",
    "for link in links_full:\n",
    "    download_file(base_dir=base_dir,tmp_dir=zip_folder, url=link)\n",
    "! ls /tmp/zipfiles/"
   ]
  },
  {
   "cell_type": "markdown",
   "metadata": {},
   "source": [
    "The dataset covered from mid 2017 to October 2019"
   ]
  },
  {
   "cell_type": "markdown",
   "metadata": {},
   "source": [
    "## 2.2 Extract all csv files"
   ]
  },
  {
   "cell_type": "code",
   "execution_count": 12,
   "metadata": {},
   "outputs": [],
   "source": [
    "from zipfile import ZipFile"
   ]
  },
  {
   "cell_type": "code",
   "execution_count": 19,
   "metadata": {},
   "outputs": [],
   "source": [
    "# extract all zip files \n",
    "for file in os.listdir(os.path.join(base_dir,zip_folder)):\n",
    "    file = os.path.join(base_dir,zip_folder, file)\n",
    "    if file.endswith('.csv.zip'):\n",
    "        with ZipFile(file, 'r') as zipObj:\n",
    "            zipObj.extractall('/tmp/csv/')"
   ]
  },
  {
   "cell_type": "code",
   "execution_count": 20,
   "metadata": {},
   "outputs": [
    {
     "name": "stdout",
     "output_type": "stream",
     "text": [
      "'/tmp/zipfiles/2017-fordgobike-tripdata.csv' -> '/tmp/csv/2017-fordgobike-tripdata.csv'\r\n"
     ]
    }
   ],
   "source": [
    "# one csv file in 2017 does not in zip file. I copied it manually\n",
    "! cp /tmp/zipfiles/2017-fordgobike-tripdata.csv /tmp/csv/ -v"
   ]
  },
  {
   "cell_type": "markdown",
   "metadata": {},
   "source": [
    "<a id=\"explore_data\"></a>\n",
    "# 3. Data Wrangling and Exploratory"
   ]
  },
  {
   "cell_type": "code",
   "execution_count": 22,
   "metadata": {},
   "outputs": [
    {
     "name": "stdout",
     "output_type": "stream",
     "text": [
      "----------------------------------------\n",
      "/tmp/csv/201803-fordgobike-tripdata.csv\n",
      "# columns 14\n",
      "----------------------------------------\n",
      "/tmp/csv/201901-fordgobike-tripdata.csv\n",
      "# columns 14\n",
      "----------------------------------------\n",
      "/tmp/csv/201808-fordgobike-tripdata.csv\n",
      "# columns 14\n",
      "----------------------------------------\n",
      "/tmp/csv/201805-fordgobike-tripdata.csv\n",
      "# columns 14\n",
      "----------------------------------------\n",
      "/tmp/csv/201807-fordgobike-tripdata.csv\n",
      "# columns 14\n",
      "----------------------------------------\n",
      "/tmp/csv/201904-fordgobike-tripdata.csv\n",
      "# columns 14\n",
      "----------------------------------------\n",
      "/tmp/csv/201806-fordgobike-tripdata.csv\n",
      "# columns 14\n",
      "----------------------------------------\n",
      "/tmp/csv/201802-fordgobike-tripdata.csv\n",
      "# columns 14\n",
      "----------------------------------------\n",
      "/tmp/csv/201907-baywheels-tripdata.csv\n",
      "# columns 15\n",
      "----------------------------------------\n",
      "/tmp/csv/201908-baywheels-tripdata.csv\n",
      "# columns 14\n",
      "----------------------------------------\n",
      "/tmp/csv/201809-fordgobike-tripdata.csv\n",
      "# columns 14\n",
      "----------------------------------------\n",
      "/tmp/csv/201902-fordgobike-tripdata.csv\n",
      "# columns 14\n",
      "----------------------------------------\n",
      "/tmp/csv/201906-baywheels-tripdata.csv\n",
      "# columns 15\n",
      "----------------------------------------\n",
      "/tmp/csv/201812-fordgobike-tripdata.csv\n",
      "# columns 14\n",
      "----------------------------------------\n",
      "/tmp/csv/201909-baywheels-tripdata.csv\n",
      "# columns 14\n",
      "----------------------------------------\n",
      "/tmp/csv/201810-fordgobike-tripdata.csv\n",
      "# columns 14\n",
      "----------------------------------------\n",
      "/tmp/csv/201801-fordgobike-tripdata.csv\n",
      "# columns 14\n",
      "----------------------------------------\n",
      "/tmp/csv/201903-fordgobike-tripdata.csv\n",
      "# columns 14\n",
      "----------------------------------------\n",
      "/tmp/csv/201804-fordgobike-tripdata.csv\n",
      "# columns 14\n",
      "----------------------------------------\n",
      "/tmp/csv/201905-baywheels-tripdata.csv\n",
      "# columns 14\n",
      "----------------------------------------\n",
      "/tmp/csv/201910-baywheels-tripdata.csv\n",
      "# columns 14\n",
      "----------------------------------------\n",
      "/tmp/csv/201811-fordgobike-tripdata.csv\n",
      "# columns 14\n",
      "----------------------------------------\n",
      "/tmp/csv/2017-fordgobike-tripdata.csv\n",
      "# columns 13\n"
     ]
    }
   ],
   "source": [
    "# just check the length of all csv files\n",
    "for file in os.listdir(os.path.join(base_dir,'csv')):\n",
    "    csv_file = os.path.join(base_dir, 'csv', file)\n",
    "    if csv_file.endswith('.csv'):\n",
    "        df = pd.read_csv(csv_file, sep=';')\n",
    "        print('-'*40)\n",
    "        print(csv_file)\n",
    "        print(f'# columns {len(list(df))}')"
   ]
  },
  {
   "cell_type": "code",
   "execution_count": 23,
   "metadata": {},
   "outputs": [],
   "source": [
    "# not all CSV files have the same number of columns\n",
    "# drop extra columns that less relevant and make data homogenious\n",
    "dfs = list()\n",
    "for file in os.listdir(os.path.join(base_dir,'csv')):\n",
    "    csv_file = os.path.join(base_dir, 'csv', file)\n",
    "    if csv_file.endswith('.csv'):\n",
    "        df = pd.read_csv(csv_file, sep=';')\n",
    "        if len(list(df)) == 15:\n",
    "            df.drop(columns = ['bike_share_for_all_trip', 'rental_access_method'], inplace=True)\n",
    "        if len(list(df)) == 14:\n",
    "            df.drop(columns ='bike_share_for_all_trip', inplace=True)\n",
    "        dfs.append(df)"
   ]
  },
  {
   "cell_type": "code",
   "execution_count": 24,
   "metadata": {},
   "outputs": [],
   "source": [
    "# create a master DataFrame for all loaded df\n",
    "df = pd.concat(dfs)"
   ]
  },
  {
   "cell_type": "code",
   "execution_count": 25,
   "metadata": {},
   "outputs": [
    {
     "name": "stdout",
     "output_type": "stream",
     "text": [
      "<class 'pandas.core.frame.DataFrame'>\n",
      "Int64Index: 4554806 entries, 0 to 519699\n",
      "Data columns (total 13 columns):\n",
      "duration_sec               int64\n",
      "start_time                 object\n",
      "end_time                   object\n",
      "start_station_id           float64\n",
      "start_station_name         object\n",
      "start_station_latitude     float64\n",
      "start_station_longitude    float64\n",
      "end_station_id             float64\n",
      "end_station_name           object\n",
      "end_station_latitude       float64\n",
      "end_station_longitude      float64\n",
      "bike_id                    int64\n",
      "user_type                  object\n",
      "dtypes: float64(6), int64(2), object(5)\n",
      "memory usage: 486.5+ MB\n"
     ]
    }
   ],
   "source": [
    "# this is a large file\n",
    "# column structure looks fine\n",
    "df.info()"
   ]
  },
  {
   "cell_type": "code",
   "execution_count": 32,
   "metadata": {
    "ExecuteTime": {
     "end_time": "2019-12-21T02:28:55.814078Z",
     "start_time": "2019-12-21T02:28:55.806958Z"
    }
   },
   "outputs": [
    {
     "data": {
      "text/plain": [
       "(4554806, 13)"
      ]
     },
     "execution_count": 32,
     "metadata": {},
     "output_type": "execute_result"
    }
   ],
   "source": [
    "# about 4.5M rows and 13 columns (after cleaning)\n",
    "df.shape"
   ]
  },
  {
   "cell_type": "code",
   "execution_count": 30,
   "metadata": {
    "collapsed": true
   },
   "outputs": [
    {
     "data": {
      "text/html": [
       "<div>\n",
       "<style scoped>\n",
       "    .dataframe tbody tr th:only-of-type {\n",
       "        vertical-align: middle;\n",
       "    }\n",
       "\n",
       "    .dataframe tbody tr th {\n",
       "        vertical-align: top;\n",
       "    }\n",
       "\n",
       "    .dataframe thead th {\n",
       "        text-align: right;\n",
       "    }\n",
       "</style>\n",
       "<table border=\"1\" class=\"dataframe\">\n",
       "  <thead>\n",
       "    <tr style=\"text-align: right;\">\n",
       "      <th></th>\n",
       "      <th>duration_sec</th>\n",
       "      <th>start_time</th>\n",
       "      <th>end_time</th>\n",
       "      <th>start_station_id</th>\n",
       "      <th>start_station_name</th>\n",
       "      <th>start_station_latitude</th>\n",
       "      <th>start_station_longitude</th>\n",
       "      <th>end_station_id</th>\n",
       "      <th>end_station_name</th>\n",
       "      <th>end_station_latitude</th>\n",
       "      <th>end_station_longitude</th>\n",
       "      <th>bike_id</th>\n",
       "      <th>user_type</th>\n",
       "    </tr>\n",
       "  </thead>\n",
       "  <tbody>\n",
       "    <tr>\n",
       "      <td>0</td>\n",
       "      <td>71766</td>\n",
       "      <td>2018-03-31 16:58:33.1490</td>\n",
       "      <td>2018-04-01 12:54:39.2630</td>\n",
       "      <td>4.0</td>\n",
       "      <td>Cyril Magnin St at Ellis St</td>\n",
       "      <td>37.785881</td>\n",
       "      <td>-122.408915</td>\n",
       "      <td>6.0</td>\n",
       "      <td>The Embarcadero at Sansome St</td>\n",
       "      <td>37.804770</td>\n",
       "      <td>-122.403234</td>\n",
       "      <td>341</td>\n",
       "      <td>Customer</td>\n",
       "    </tr>\n",
       "    <tr>\n",
       "      <td>1</td>\n",
       "      <td>62569</td>\n",
       "      <td>2018-03-31 19:03:35.9160</td>\n",
       "      <td>2018-04-01 12:26:25.0350</td>\n",
       "      <td>78.0</td>\n",
       "      <td>Folsom St at 9th St</td>\n",
       "      <td>37.773717</td>\n",
       "      <td>-122.411647</td>\n",
       "      <td>47.0</td>\n",
       "      <td>4th St at Harrison St</td>\n",
       "      <td>37.780955</td>\n",
       "      <td>-122.399749</td>\n",
       "      <td>536</td>\n",
       "      <td>Subscriber</td>\n",
       "    </tr>\n",
       "    <tr>\n",
       "      <td>2</td>\n",
       "      <td>56221</td>\n",
       "      <td>2018-03-31 20:13:13.5640</td>\n",
       "      <td>2018-04-01 11:50:14.8400</td>\n",
       "      <td>258.0</td>\n",
       "      <td>University Ave at Oxford St</td>\n",
       "      <td>37.872355</td>\n",
       "      <td>-122.266447</td>\n",
       "      <td>239.0</td>\n",
       "      <td>Bancroft Way at Telegraph Ave</td>\n",
       "      <td>37.868813</td>\n",
       "      <td>-122.258764</td>\n",
       "      <td>3245</td>\n",
       "      <td>Customer</td>\n",
       "    </tr>\n",
       "    <tr>\n",
       "      <td>3</td>\n",
       "      <td>85844</td>\n",
       "      <td>2018-03-31 11:28:07.6580</td>\n",
       "      <td>2018-04-01 11:18:52.6130</td>\n",
       "      <td>186.0</td>\n",
       "      <td>Lakeside Dr at 14th St</td>\n",
       "      <td>37.801319</td>\n",
       "      <td>-122.262642</td>\n",
       "      <td>340.0</td>\n",
       "      <td>Harmon St at Adeline St</td>\n",
       "      <td>37.849735</td>\n",
       "      <td>-122.270582</td>\n",
       "      <td>3722</td>\n",
       "      <td>Customer</td>\n",
       "    </tr>\n",
       "    <tr>\n",
       "      <td>4</td>\n",
       "      <td>1566</td>\n",
       "      <td>2018-03-31 23:37:56.6400</td>\n",
       "      <td>2018-04-01 00:04:02.8930</td>\n",
       "      <td>193.0</td>\n",
       "      <td>Grand Ave at Santa Clara Ave</td>\n",
       "      <td>37.812744</td>\n",
       "      <td>-122.247215</td>\n",
       "      <td>196.0</td>\n",
       "      <td>Grand Ave at Perkins St</td>\n",
       "      <td>37.808894</td>\n",
       "      <td>-122.256460</td>\n",
       "      <td>2355</td>\n",
       "      <td>Subscriber</td>\n",
       "    </tr>\n",
       "  </tbody>\n",
       "</table>\n",
       "</div>"
      ],
      "text/plain": [
       "   duration_sec                start_time                  end_time  \\\n",
       "0         71766  2018-03-31 16:58:33.1490  2018-04-01 12:54:39.2630   \n",
       "1         62569  2018-03-31 19:03:35.9160  2018-04-01 12:26:25.0350   \n",
       "2         56221  2018-03-31 20:13:13.5640  2018-04-01 11:50:14.8400   \n",
       "3         85844  2018-03-31 11:28:07.6580  2018-04-01 11:18:52.6130   \n",
       "4          1566  2018-03-31 23:37:56.6400  2018-04-01 00:04:02.8930   \n",
       "\n",
       "   start_station_id            start_station_name  start_station_latitude  \\\n",
       "0               4.0   Cyril Magnin St at Ellis St               37.785881   \n",
       "1              78.0           Folsom St at 9th St               37.773717   \n",
       "2             258.0   University Ave at Oxford St               37.872355   \n",
       "3             186.0        Lakeside Dr at 14th St               37.801319   \n",
       "4             193.0  Grand Ave at Santa Clara Ave               37.812744   \n",
       "\n",
       "   start_station_longitude  end_station_id               end_station_name  \\\n",
       "0              -122.408915             6.0  The Embarcadero at Sansome St   \n",
       "1              -122.411647            47.0          4th St at Harrison St   \n",
       "2              -122.266447           239.0  Bancroft Way at Telegraph Ave   \n",
       "3              -122.262642           340.0        Harmon St at Adeline St   \n",
       "4              -122.247215           196.0        Grand Ave at Perkins St   \n",
       "\n",
       "   end_station_latitude  end_station_longitude  bike_id   user_type  \n",
       "0             37.804770            -122.403234      341    Customer  \n",
       "1             37.780955            -122.399749      536  Subscriber  \n",
       "2             37.868813            -122.258764     3245    Customer  \n",
       "3             37.849735            -122.270582     3722    Customer  \n",
       "4             37.808894            -122.256460     2355  Subscriber  "
      ]
     },
     "execution_count": 30,
     "metadata": {},
     "output_type": "execute_result"
    }
   ],
   "source": [
    "# need to sort df by the time\n",
    "df.head()"
   ]
  },
  {
   "cell_type": "code",
   "execution_count": 28,
   "metadata": {},
   "outputs": [],
   "source": [
    "# save file to the local disk just in case\n",
    "df.to_csv('/tmp/sf_bikeshare.csv', index=False, sep=';')"
   ]
  },
  {
   "cell_type": "code",
   "execution_count": 3,
   "metadata": {
    "ExecuteTime": {
     "end_time": "2019-12-21T11:41:51.208374Z",
     "start_time": "2019-12-21T11:41:29.756684Z"
    }
   },
   "outputs": [],
   "source": [
    "# reload CSV file if needed\n",
    "# df = pd.read_csv('/tmp/sf_bikeshare.csv', sep=';')\n",
    "df = pd.read_csv('/home/bing/Desktop/sf_bikeshare.csv', sep=';')"
   ]
  },
  {
   "cell_type": "code",
   "execution_count": 4,
   "metadata": {
    "ExecuteTime": {
     "end_time": "2019-12-21T11:42:16.526015Z",
     "start_time": "2019-12-21T11:42:13.719884Z"
    }
   },
   "outputs": [
    {
     "data": {
      "text/html": [
       "<div>\n",
       "<style scoped>\n",
       "    .dataframe tbody tr th:only-of-type {\n",
       "        vertical-align: middle;\n",
       "    }\n",
       "\n",
       "    .dataframe tbody tr th {\n",
       "        vertical-align: top;\n",
       "    }\n",
       "\n",
       "    .dataframe thead th {\n",
       "        text-align: right;\n",
       "    }\n",
       "</style>\n",
       "<table border=\"1\" class=\"dataframe\">\n",
       "  <thead>\n",
       "    <tr style=\"text-align: right;\">\n",
       "      <th></th>\n",
       "      <th>duration_sec</th>\n",
       "      <th>start_station_id</th>\n",
       "      <th>start_station_latitude</th>\n",
       "      <th>start_station_longitude</th>\n",
       "      <th>end_station_id</th>\n",
       "      <th>end_station_latitude</th>\n",
       "      <th>end_station_longitude</th>\n",
       "      <th>bike_id</th>\n",
       "    </tr>\n",
       "  </thead>\n",
       "  <tbody>\n",
       "    <tr>\n",
       "      <th>count</th>\n",
       "      <td>4.554806e+06</td>\n",
       "      <td>4.484243e+06</td>\n",
       "      <td>4.554806e+06</td>\n",
       "      <td>4.554806e+06</td>\n",
       "      <td>4.482452e+06</td>\n",
       "      <td>4.554806e+06</td>\n",
       "      <td>4.554806e+06</td>\n",
       "      <td>4.554806e+06</td>\n",
       "    </tr>\n",
       "    <tr>\n",
       "      <th>mean</th>\n",
       "      <td>8.619804e+02</td>\n",
       "      <td>1.281872e+02</td>\n",
       "      <td>3.776769e+01</td>\n",
       "      <td>-1.223523e+02</td>\n",
       "      <td>1.257575e+02</td>\n",
       "      <td>3.776762e+01</td>\n",
       "      <td>-1.223509e+02</td>\n",
       "      <td>1.273711e+04</td>\n",
       "    </tr>\n",
       "    <tr>\n",
       "      <th>std</th>\n",
       "      <td>2.319393e+03</td>\n",
       "      <td>1.096615e+02</td>\n",
       "      <td>1.047017e-01</td>\n",
       "      <td>1.578135e-01</td>\n",
       "      <td>1.091611e+02</td>\n",
       "      <td>1.403899e-01</td>\n",
       "      <td>3.417576e-01</td>\n",
       "      <td>7.428609e+04</td>\n",
       "    </tr>\n",
       "    <tr>\n",
       "      <th>min</th>\n",
       "      <td>6.000000e+01</td>\n",
       "      <td>3.000000e+00</td>\n",
       "      <td>0.000000e+00</td>\n",
       "      <td>-1.225143e+02</td>\n",
       "      <td>3.000000e+00</td>\n",
       "      <td>0.000000e+00</td>\n",
       "      <td>-1.225143e+02</td>\n",
       "      <td>1.000000e+01</td>\n",
       "    </tr>\n",
       "    <tr>\n",
       "      <th>25%</th>\n",
       "      <td>3.580000e+02</td>\n",
       "      <td>3.700000e+01</td>\n",
       "      <td>3.777041e+01</td>\n",
       "      <td>-1.224117e+02</td>\n",
       "      <td>3.000000e+01</td>\n",
       "      <td>3.777106e+01</td>\n",
       "      <td>-1.224113e+02</td>\n",
       "      <td>1.381000e+03</td>\n",
       "    </tr>\n",
       "    <tr>\n",
       "      <th>50%</th>\n",
       "      <td>5.670000e+02</td>\n",
       "      <td>9.200000e+01</td>\n",
       "      <td>3.778101e+01</td>\n",
       "      <td>-1.223983e+02</td>\n",
       "      <td>9.000000e+01</td>\n",
       "      <td>3.778107e+01</td>\n",
       "      <td>-1.223974e+02</td>\n",
       "      <td>2.672000e+03</td>\n",
       "    </tr>\n",
       "    <tr>\n",
       "      <th>75%</th>\n",
       "      <td>8.860000e+02</td>\n",
       "      <td>1.970000e+02</td>\n",
       "      <td>3.779539e+01</td>\n",
       "      <td>-1.222934e+02</td>\n",
       "      <td>1.960000e+02</td>\n",
       "      <td>3.779625e+01</td>\n",
       "      <td>-1.222935e+02</td>\n",
       "      <td>4.227000e+03</td>\n",
       "    </tr>\n",
       "    <tr>\n",
       "      <th>max</th>\n",
       "      <td>8.636900e+04</td>\n",
       "      <td>4.820000e+02</td>\n",
       "      <td>4.551000e+01</td>\n",
       "      <td>0.000000e+00</td>\n",
       "      <td>4.820000e+02</td>\n",
       "      <td>4.551000e+01</td>\n",
       "      <td>0.000000e+00</td>\n",
       "      <td>9.994220e+05</td>\n",
       "    </tr>\n",
       "  </tbody>\n",
       "</table>\n",
       "</div>"
      ],
      "text/plain": [
       "       duration_sec  start_station_id  start_station_latitude  \\\n",
       "count  4.554806e+06      4.484243e+06            4.554806e+06   \n",
       "mean   8.619804e+02      1.281872e+02            3.776769e+01   \n",
       "std    2.319393e+03      1.096615e+02            1.047017e-01   \n",
       "min    6.000000e+01      3.000000e+00            0.000000e+00   \n",
       "25%    3.580000e+02      3.700000e+01            3.777041e+01   \n",
       "50%    5.670000e+02      9.200000e+01            3.778101e+01   \n",
       "75%    8.860000e+02      1.970000e+02            3.779539e+01   \n",
       "max    8.636900e+04      4.820000e+02            4.551000e+01   \n",
       "\n",
       "       start_station_longitude  end_station_id  end_station_latitude  \\\n",
       "count             4.554806e+06    4.482452e+06          4.554806e+06   \n",
       "mean             -1.223523e+02    1.257575e+02          3.776762e+01   \n",
       "std               1.578135e-01    1.091611e+02          1.403899e-01   \n",
       "min              -1.225143e+02    3.000000e+00          0.000000e+00   \n",
       "25%              -1.224117e+02    3.000000e+01          3.777106e+01   \n",
       "50%              -1.223983e+02    9.000000e+01          3.778107e+01   \n",
       "75%              -1.222934e+02    1.960000e+02          3.779625e+01   \n",
       "max               0.000000e+00    4.820000e+02          4.551000e+01   \n",
       "\n",
       "       end_station_longitude       bike_id  \n",
       "count           4.554806e+06  4.554806e+06  \n",
       "mean           -1.223509e+02  1.273711e+04  \n",
       "std             3.417576e-01  7.428609e+04  \n",
       "min            -1.225143e+02  1.000000e+01  \n",
       "25%            -1.224113e+02  1.381000e+03  \n",
       "50%            -1.223974e+02  2.672000e+03  \n",
       "75%            -1.222935e+02  4.227000e+03  \n",
       "max             0.000000e+00  9.994220e+05  "
      ]
     },
     "execution_count": 4,
     "metadata": {},
     "output_type": "execute_result"
    }
   ],
   "source": [
    "df.describe()"
   ]
  },
  {
   "cell_type": "code",
   "execution_count": 5,
   "metadata": {
    "ExecuteTime": {
     "end_time": "2019-12-21T11:42:39.867302Z",
     "start_time": "2019-12-21T11:42:24.129726Z"
    }
   },
   "outputs": [
    {
     "data": {
      "text/html": [
       "<div>\n",
       "<style scoped>\n",
       "    .dataframe tbody tr th:only-of-type {\n",
       "        vertical-align: middle;\n",
       "    }\n",
       "\n",
       "    .dataframe tbody tr th {\n",
       "        vertical-align: top;\n",
       "    }\n",
       "\n",
       "    .dataframe thead th {\n",
       "        text-align: right;\n",
       "    }\n",
       "</style>\n",
       "<table border=\"1\" class=\"dataframe\">\n",
       "  <thead>\n",
       "    <tr style=\"text-align: right;\">\n",
       "      <th></th>\n",
       "      <th>duration_sec</th>\n",
       "      <th>start_time</th>\n",
       "      <th>end_time</th>\n",
       "      <th>start_station_id</th>\n",
       "      <th>start_station_name</th>\n",
       "      <th>start_station_latitude</th>\n",
       "      <th>start_station_longitude</th>\n",
       "      <th>end_station_id</th>\n",
       "      <th>end_station_name</th>\n",
       "      <th>end_station_latitude</th>\n",
       "      <th>end_station_longitude</th>\n",
       "      <th>bike_id</th>\n",
       "      <th>user_type</th>\n",
       "    </tr>\n",
       "  </thead>\n",
       "  <tbody>\n",
       "  </tbody>\n",
       "</table>\n",
       "</div>"
      ],
      "text/plain": [
       "Empty DataFrame\n",
       "Columns: [duration_sec, start_time, end_time, start_station_id, start_station_name, start_station_latitude, start_station_longitude, end_station_id, end_station_name, end_station_latitude, end_station_longitude, bike_id, user_type]\n",
       "Index: []"
      ]
     },
     "execution_count": 5,
     "metadata": {},
     "output_type": "execute_result"
    }
   ],
   "source": [
    "# seem no duplicated row sofar\n",
    "df[df.duplicated()]"
   ]
  },
  {
   "cell_type": "markdown",
   "metadata": {},
   "source": [
    "<a id=\"visual\"></a>\n",
    "#  4. Visualize Data"
   ]
  },
  {
   "cell_type": "code",
   "execution_count": 6,
   "metadata": {
    "ExecuteTime": {
     "end_time": "2019-12-21T11:42:39.898424Z",
     "start_time": "2019-12-21T11:42:39.870975Z"
    }
   },
   "outputs": [
    {
     "data": {
      "text/html": [
       "<div>\n",
       "<style scoped>\n",
       "    .dataframe tbody tr th:only-of-type {\n",
       "        vertical-align: middle;\n",
       "    }\n",
       "\n",
       "    .dataframe tbody tr th {\n",
       "        vertical-align: top;\n",
       "    }\n",
       "\n",
       "    .dataframe thead th {\n",
       "        text-align: right;\n",
       "    }\n",
       "</style>\n",
       "<table border=\"1\" class=\"dataframe\">\n",
       "  <thead>\n",
       "    <tr style=\"text-align: right;\">\n",
       "      <th></th>\n",
       "      <th>duration_sec</th>\n",
       "      <th>start_time</th>\n",
       "      <th>end_time</th>\n",
       "      <th>start_station_id</th>\n",
       "      <th>start_station_name</th>\n",
       "      <th>start_station_latitude</th>\n",
       "      <th>start_station_longitude</th>\n",
       "      <th>end_station_id</th>\n",
       "      <th>end_station_name</th>\n",
       "      <th>end_station_latitude</th>\n",
       "      <th>end_station_longitude</th>\n",
       "      <th>bike_id</th>\n",
       "      <th>user_type</th>\n",
       "    </tr>\n",
       "  </thead>\n",
       "  <tbody>\n",
       "    <tr>\n",
       "      <th>0</th>\n",
       "      <td>424</td>\n",
       "      <td>2017-06-28 09:47:36.347</td>\n",
       "      <td>2017-06-28 09:54:41.187</td>\n",
       "      <td>21.0</td>\n",
       "      <td>Montgomery St BART Station (Market St at 2nd St)</td>\n",
       "      <td>37.789625</td>\n",
       "      <td>-122.400811</td>\n",
       "      <td>48.0</td>\n",
       "      <td>2nd St at S Park St</td>\n",
       "      <td>37.782411</td>\n",
       "      <td>-122.392706</td>\n",
       "      <td>240</td>\n",
       "      <td>Subscriber</td>\n",
       "    </tr>\n",
       "    <tr>\n",
       "      <th>1</th>\n",
       "      <td>366</td>\n",
       "      <td>2017-06-28 09:47:41.664</td>\n",
       "      <td>2017-06-28 09:53:47.715</td>\n",
       "      <td>58.0</td>\n",
       "      <td>Market St at 10th St</td>\n",
       "      <td>37.776619</td>\n",
       "      <td>-122.417385</td>\n",
       "      <td>59.0</td>\n",
       "      <td>S Van Ness Ave at Market St</td>\n",
       "      <td>37.774814</td>\n",
       "      <td>-122.418954</td>\n",
       "      <td>669</td>\n",
       "      <td>Subscriber</td>\n",
       "    </tr>\n",
       "    <tr>\n",
       "      <th>2</th>\n",
       "      <td>188</td>\n",
       "      <td>2017-06-28 09:49:46.377</td>\n",
       "      <td>2017-06-28 09:52:55.338</td>\n",
       "      <td>25.0</td>\n",
       "      <td>Howard St at 2nd St</td>\n",
       "      <td>37.787522</td>\n",
       "      <td>-122.397405</td>\n",
       "      <td>48.0</td>\n",
       "      <td>2nd St at S Park St</td>\n",
       "      <td>37.782411</td>\n",
       "      <td>-122.392706</td>\n",
       "      <td>117</td>\n",
       "      <td>Subscriber</td>\n",
       "    </tr>\n",
       "    <tr>\n",
       "      <th>3</th>\n",
       "      <td>1201</td>\n",
       "      <td>2017-06-28 09:50:59.175</td>\n",
       "      <td>2017-06-28 10:11:00.359</td>\n",
       "      <td>81.0</td>\n",
       "      <td>Berry St at 4th St</td>\n",
       "      <td>37.775880</td>\n",
       "      <td>-122.393170</td>\n",
       "      <td>9.0</td>\n",
       "      <td>Broadway at Battery St</td>\n",
       "      <td>37.798572</td>\n",
       "      <td>-122.400869</td>\n",
       "      <td>77</td>\n",
       "      <td>Subscriber</td>\n",
       "    </tr>\n",
       "    <tr>\n",
       "      <th>4</th>\n",
       "      <td>431</td>\n",
       "      <td>2017-06-28 09:56:39.631</td>\n",
       "      <td>2017-06-28 10:03:51.090</td>\n",
       "      <td>66.0</td>\n",
       "      <td>3rd St at Townsend St</td>\n",
       "      <td>37.778742</td>\n",
       "      <td>-122.392741</td>\n",
       "      <td>321.0</td>\n",
       "      <td>5th at Folsom</td>\n",
       "      <td>37.780146</td>\n",
       "      <td>-122.403071</td>\n",
       "      <td>316</td>\n",
       "      <td>Subscriber</td>\n",
       "    </tr>\n",
       "  </tbody>\n",
       "</table>\n",
       "</div>"
      ],
      "text/plain": [
       "   duration_sec               start_time                 end_time  \\\n",
       "0           424  2017-06-28 09:47:36.347  2017-06-28 09:54:41.187   \n",
       "1           366  2017-06-28 09:47:41.664  2017-06-28 09:53:47.715   \n",
       "2           188  2017-06-28 09:49:46.377  2017-06-28 09:52:55.338   \n",
       "3          1201  2017-06-28 09:50:59.175  2017-06-28 10:11:00.359   \n",
       "4           431  2017-06-28 09:56:39.631  2017-06-28 10:03:51.090   \n",
       "\n",
       "   start_station_id                                start_station_name  \\\n",
       "0              21.0  Montgomery St BART Station (Market St at 2nd St)   \n",
       "1              58.0                              Market St at 10th St   \n",
       "2              25.0                               Howard St at 2nd St   \n",
       "3              81.0                                Berry St at 4th St   \n",
       "4              66.0                             3rd St at Townsend St   \n",
       "\n",
       "   start_station_latitude  start_station_longitude  end_station_id  \\\n",
       "0               37.789625              -122.400811            48.0   \n",
       "1               37.776619              -122.417385            59.0   \n",
       "2               37.787522              -122.397405            48.0   \n",
       "3               37.775880              -122.393170             9.0   \n",
       "4               37.778742              -122.392741           321.0   \n",
       "\n",
       "              end_station_name  end_station_latitude  end_station_longitude  \\\n",
       "0          2nd St at S Park St             37.782411            -122.392706   \n",
       "1  S Van Ness Ave at Market St             37.774814            -122.418954   \n",
       "2          2nd St at S Park St             37.782411            -122.392706   \n",
       "3       Broadway at Battery St             37.798572            -122.400869   \n",
       "4                5th at Folsom             37.780146            -122.403071   \n",
       "\n",
       "   bike_id   user_type  \n",
       "0      240  Subscriber  \n",
       "1      669  Subscriber  \n",
       "2      117  Subscriber  \n",
       "3       77  Subscriber  \n",
       "4      316  Subscriber  "
      ]
     },
     "execution_count": 6,
     "metadata": {},
     "output_type": "execute_result"
    }
   ],
   "source": [
    "df.head()"
   ]
  },
  {
   "cell_type": "code",
   "execution_count": 7,
   "metadata": {
    "ExecuteTime": {
     "end_time": "2019-12-21T11:42:44.644036Z",
     "start_time": "2019-12-21T11:42:43.901470Z"
    },
    "scrolled": true
   },
   "outputs": [],
   "source": [
    "# remove row with empty station_id\n",
    "df = df[~(df.end_station_id.isna() | df.start_station_id.isna())]"
   ]
  },
  {
   "cell_type": "code",
   "execution_count": 8,
   "metadata": {
    "ExecuteTime": {
     "end_time": "2019-12-21T11:42:44.729538Z",
     "start_time": "2019-12-21T11:42:44.701266Z"
    }
   },
   "outputs": [
    {
     "data": {
      "text/html": [
       "<div>\n",
       "<style scoped>\n",
       "    .dataframe tbody tr th:only-of-type {\n",
       "        vertical-align: middle;\n",
       "    }\n",
       "\n",
       "    .dataframe tbody tr th {\n",
       "        vertical-align: top;\n",
       "    }\n",
       "\n",
       "    .dataframe thead th {\n",
       "        text-align: right;\n",
       "    }\n",
       "</style>\n",
       "<table border=\"1\" class=\"dataframe\">\n",
       "  <thead>\n",
       "    <tr style=\"text-align: right;\">\n",
       "      <th></th>\n",
       "      <th>duration_sec</th>\n",
       "      <th>start_time</th>\n",
       "      <th>end_time</th>\n",
       "      <th>start_station_id</th>\n",
       "      <th>start_station_name</th>\n",
       "      <th>start_station_latitude</th>\n",
       "      <th>start_station_longitude</th>\n",
       "      <th>end_station_id</th>\n",
       "      <th>end_station_name</th>\n",
       "      <th>end_station_latitude</th>\n",
       "      <th>end_station_longitude</th>\n",
       "      <th>bike_id</th>\n",
       "      <th>user_type</th>\n",
       "    </tr>\n",
       "  </thead>\n",
       "  <tbody>\n",
       "  </tbody>\n",
       "</table>\n",
       "</div>"
      ],
      "text/plain": [
       "Empty DataFrame\n",
       "Columns: [duration_sec, start_time, end_time, start_station_id, start_station_name, start_station_latitude, start_station_longitude, end_station_id, end_station_name, end_station_latitude, end_station_longitude, bike_id, user_type]\n",
       "Index: []"
      ]
     },
     "execution_count": 8,
     "metadata": {},
     "output_type": "execute_result"
    }
   ],
   "source": [
    "df[df.end_station_id.isna()]"
   ]
  },
  {
   "cell_type": "code",
   "execution_count": 9,
   "metadata": {
    "ExecuteTime": {
     "end_time": "2019-12-21T11:42:51.085080Z",
     "start_time": "2019-12-21T11:42:51.077023Z"
    }
   },
   "outputs": [
    {
     "data": {
      "text/plain": [
       "(4468852, 13)"
      ]
     },
     "execution_count": 9,
     "metadata": {},
     "output_type": "execute_result"
    }
   ],
   "source": [
    "df.shape"
   ]
  },
  {
   "cell_type": "code",
   "execution_count": 10,
   "metadata": {
    "ExecuteTime": {
     "end_time": "2019-12-21T11:42:56.168582Z",
     "start_time": "2019-12-21T11:42:53.725666Z"
    }
   },
   "outputs": [],
   "source": [
    "#  convert to datetime object\n",
    "for var in ['start_time', 'end_time']:\n",
    "    df[var] = pd.to_datetime(df[var])"
   ]
  },
  {
   "cell_type": "code",
   "execution_count": 11,
   "metadata": {
    "ExecuteTime": {
     "end_time": "2019-12-21T11:42:57.143189Z",
     "start_time": "2019-12-21T11:42:56.171167Z"
    }
   },
   "outputs": [],
   "source": [
    "df.sort_values('start_time', inplace=True)"
   ]
  },
  {
   "cell_type": "code",
   "execution_count": 12,
   "metadata": {
    "ExecuteTime": {
     "end_time": "2019-12-21T11:44:19.558083Z",
     "start_time": "2019-12-21T11:42:58.010324Z"
    }
   },
   "outputs": [],
   "source": [
    "# group some key datetime objects for further analysis\n",
    "df['m'] = df.start_time.apply(lambda x: x.month)\n",
    "df['m-y'] = df.start_time.apply(lambda x: f'{x.month}-{x.year}')\n",
    "df['d'] = df.start_time.apply(lambda x: x.date())"
   ]
  },
  {
   "cell_type": "code",
   "execution_count": 13,
   "metadata": {
    "ExecuteTime": {
     "end_time": "2019-12-21T11:44:19.887235Z",
     "start_time": "2019-12-21T11:44:19.562714Z"
    }
   },
   "outputs": [],
   "source": [
    "for var in ['start_station_id', 'end_station_id']:\n",
    "    df[var] = df[var].astype(int)"
   ]
  },
  {
   "cell_type": "code",
   "execution_count": 14,
   "metadata": {
    "ExecuteTime": {
     "end_time": "2019-12-21T11:44:19.903842Z",
     "start_time": "2019-12-21T11:44:19.892016Z"
    }
   },
   "outputs": [
    {
     "data": {
      "text/plain": [
       "duration_sec                        int64\n",
       "start_time                 datetime64[ns]\n",
       "end_time                   datetime64[ns]\n",
       "start_station_id                    int64\n",
       "start_station_name                 object\n",
       "start_station_latitude            float64\n",
       "start_station_longitude           float64\n",
       "end_station_id                      int64\n",
       "end_station_name                   object\n",
       "end_station_latitude              float64\n",
       "end_station_longitude             float64\n",
       "bike_id                             int64\n",
       "user_type                          object\n",
       "m                                   int64\n",
       "m-y                                object\n",
       "d                                  object\n",
       "dtype: object"
      ]
     },
     "execution_count": 14,
     "metadata": {},
     "output_type": "execute_result"
    }
   ],
   "source": [
    "df.dtypes"
   ]
  },
  {
   "cell_type": "code",
   "execution_count": 70,
   "metadata": {
    "ExecuteTime": {
     "end_time": "2019-12-21T03:21:47.789237Z",
     "start_time": "2019-12-21T03:21:47.743097Z"
    }
   },
   "outputs": [
    {
     "data": {
      "text/plain": [
       "425"
      ]
     },
     "execution_count": 70,
     "metadata": {},
     "output_type": "execute_result"
    }
   ],
   "source": [
    "df.start_station_id.nunique()"
   ]
  },
  {
   "cell_type": "code",
   "execution_count": 71,
   "metadata": {
    "ExecuteTime": {
     "end_time": "2019-12-21T03:23:03.309932Z",
     "start_time": "2019-12-21T03:23:03.061234Z"
    }
   },
   "outputs": [
    {
     "data": {
      "text/plain": [
       "array(['Subscriber', 'Customer'], dtype=object)"
      ]
     },
     "execution_count": 71,
     "metadata": {},
     "output_type": "execute_result"
    }
   ],
   "source": [
    "df.user_type.unique()"
   ]
  },
  {
   "cell_type": "code",
   "execution_count": 72,
   "metadata": {
    "ExecuteTime": {
     "end_time": "2019-12-21T03:23:46.944625Z",
     "start_time": "2019-12-21T03:23:46.271195Z"
    }
   },
   "outputs": [],
   "source": [
    "user_class = pd.api.types.CategoricalDtype(ordered=True, categories= df.user_type.unique())\n",
    "df['user_type'] = df['user_type'].astype(user_class)"
   ]
  },
  {
   "cell_type": "code",
   "execution_count": 74,
   "metadata": {
    "ExecuteTime": {
     "end_time": "2019-12-21T03:26:41.355320Z",
     "start_time": "2019-12-21T03:25:13.305122Z"
    }
   },
   "outputs": [],
   "source": [
    "df.to_csv('/tmp/sf_bikeshare_1.csv', index=False, sep=';')"
   ]
  },
  {
   "cell_type": "code",
   "execution_count": 15,
   "metadata": {
    "ExecuteTime": {
     "end_time": "2019-12-21T13:25:13.727305Z",
     "start_time": "2019-12-21T13:25:12.615558Z"
    },
    "scrolled": true
   },
   "outputs": [
    {
     "data": {
      "text/html": [
       "<div>\n",
       "<style scoped>\n",
       "    .dataframe tbody tr th:only-of-type {\n",
       "        vertical-align: middle;\n",
       "    }\n",
       "\n",
       "    .dataframe tbody tr th {\n",
       "        vertical-align: top;\n",
       "    }\n",
       "\n",
       "    .dataframe thead th {\n",
       "        text-align: right;\n",
       "    }\n",
       "</style>\n",
       "<table border=\"1\" class=\"dataframe\">\n",
       "  <thead>\n",
       "    <tr style=\"text-align: right;\">\n",
       "      <th></th>\n",
       "      <th>duration_sec</th>\n",
       "      <th>start_time</th>\n",
       "      <th>end_time</th>\n",
       "      <th>start_station_id</th>\n",
       "      <th>start_station_name</th>\n",
       "      <th>start_station_latitude</th>\n",
       "      <th>start_station_longitude</th>\n",
       "      <th>end_station_id</th>\n",
       "      <th>end_station_name</th>\n",
       "      <th>end_station_latitude</th>\n",
       "      <th>end_station_longitude</th>\n",
       "      <th>bike_id</th>\n",
       "      <th>user_type</th>\n",
       "      <th>m</th>\n",
       "      <th>m-y</th>\n",
       "      <th>d</th>\n",
       "    </tr>\n",
       "  </thead>\n",
       "  <tbody>\n",
       "  </tbody>\n",
       "</table>\n",
       "</div>"
      ],
      "text/plain": [
       "Empty DataFrame\n",
       "Columns: [duration_sec, start_time, end_time, start_station_id, start_station_name, start_station_latitude, start_station_longitude, end_station_id, end_station_name, end_station_latitude, end_station_longitude, bike_id, user_type, m, m-y, d]\n",
       "Index: []"
      ]
     },
     "execution_count": 15,
     "metadata": {},
     "output_type": "execute_result"
    }
   ],
   "source": [
    "df[df.end_station_id.isna() ]"
   ]
  },
  {
   "cell_type": "code",
   "execution_count": 39,
   "metadata": {
    "ExecuteTime": {
     "end_time": "2019-12-21T02:31:28.447677Z",
     "start_time": "2019-12-21T02:31:28.431474Z"
    },
    "scrolled": true
   },
   "outputs": [
    {
     "data": {
      "text/plain": [
       "(0, 13)"
      ]
     },
     "execution_count": 39,
     "metadata": {},
     "output_type": "execute_result"
    }
   ],
   "source": [
    "df[df.bike_id.isna()].shape"
   ]
  },
  {
   "cell_type": "code",
   "execution_count": 16,
   "metadata": {
    "ExecuteTime": {
     "end_time": "2019-12-21T13:25:21.936656Z",
     "start_time": "2019-12-21T13:25:19.486758Z"
    }
   },
   "outputs": [
    {
     "data": {
      "text/html": [
       "<div>\n",
       "<style scoped>\n",
       "    .dataframe tbody tr th:only-of-type {\n",
       "        vertical-align: middle;\n",
       "    }\n",
       "\n",
       "    .dataframe tbody tr th {\n",
       "        vertical-align: top;\n",
       "    }\n",
       "\n",
       "    .dataframe thead th {\n",
       "        text-align: right;\n",
       "    }\n",
       "</style>\n",
       "<table border=\"1\" class=\"dataframe\">\n",
       "  <thead>\n",
       "    <tr style=\"text-align: right;\">\n",
       "      <th></th>\n",
       "      <th>duration_sec</th>\n",
       "      <th>start_station_id</th>\n",
       "      <th>start_station_latitude</th>\n",
       "      <th>start_station_longitude</th>\n",
       "      <th>end_station_id</th>\n",
       "      <th>end_station_latitude</th>\n",
       "      <th>end_station_longitude</th>\n",
       "      <th>bike_id</th>\n",
       "      <th>m</th>\n",
       "    </tr>\n",
       "  </thead>\n",
       "  <tbody>\n",
       "    <tr>\n",
       "      <th>count</th>\n",
       "      <td>4.468852e+06</td>\n",
       "      <td>4.468852e+06</td>\n",
       "      <td>4.468852e+06</td>\n",
       "      <td>4.468852e+06</td>\n",
       "      <td>4.468852e+06</td>\n",
       "      <td>4.468852e+06</td>\n",
       "      <td>4.468852e+06</td>\n",
       "      <td>4.468852e+06</td>\n",
       "      <td>4.468852e+06</td>\n",
       "    </tr>\n",
       "    <tr>\n",
       "      <th>mean</th>\n",
       "      <td>8.597963e+02</td>\n",
       "      <td>1.280617e+02</td>\n",
       "      <td>3.776964e+01</td>\n",
       "      <td>-1.223545e+02</td>\n",
       "      <td>1.256500e+02</td>\n",
       "      <td>3.776956e+01</td>\n",
       "      <td>-1.223531e+02</td>\n",
       "      <td>5.158544e+03</td>\n",
       "      <td>6.615044e+00</td>\n",
       "    </tr>\n",
       "    <tr>\n",
       "      <th>std</th>\n",
       "      <td>2.319863e+03</td>\n",
       "      <td>1.095758e+02</td>\n",
       "      <td>1.006432e-01</td>\n",
       "      <td>1.381410e-01</td>\n",
       "      <td>1.090939e+02</td>\n",
       "      <td>1.379971e-01</td>\n",
       "      <td>3.357808e-01</td>\n",
       "      <td>3.372167e+04</td>\n",
       "      <td>3.155112e+00</td>\n",
       "    </tr>\n",
       "    <tr>\n",
       "      <th>min</th>\n",
       "      <td>6.000000e+01</td>\n",
       "      <td>3.000000e+00</td>\n",
       "      <td>0.000000e+00</td>\n",
       "      <td>-1.224952e+02</td>\n",
       "      <td>3.000000e+00</td>\n",
       "      <td>0.000000e+00</td>\n",
       "      <td>-1.224952e+02</td>\n",
       "      <td>1.000000e+01</td>\n",
       "      <td>1.000000e+00</td>\n",
       "    </tr>\n",
       "    <tr>\n",
       "      <th>25%</th>\n",
       "      <td>3.570000e+02</td>\n",
       "      <td>3.700000e+01</td>\n",
       "      <td>3.777106e+01</td>\n",
       "      <td>-1.224117e+02</td>\n",
       "      <td>3.000000e+01</td>\n",
       "      <td>3.777106e+01</td>\n",
       "      <td>-1.224113e+02</td>\n",
       "      <td>1.352000e+03</td>\n",
       "      <td>4.000000e+00</td>\n",
       "    </tr>\n",
       "    <tr>\n",
       "      <th>50%</th>\n",
       "      <td>5.660000e+02</td>\n",
       "      <td>9.100000e+01</td>\n",
       "      <td>3.778107e+01</td>\n",
       "      <td>-1.223983e+02</td>\n",
       "      <td>9.000000e+01</td>\n",
       "      <td>3.778107e+01</td>\n",
       "      <td>-1.223974e+02</td>\n",
       "      <td>2.627000e+03</td>\n",
       "      <td>7.000000e+00</td>\n",
       "    </tr>\n",
       "    <tr>\n",
       "      <th>75%</th>\n",
       "      <td>8.830000e+02</td>\n",
       "      <td>1.970000e+02</td>\n",
       "      <td>3.779539e+01</td>\n",
       "      <td>-1.222948e+02</td>\n",
       "      <td>1.960000e+02</td>\n",
       "      <td>3.779625e+01</td>\n",
       "      <td>-1.222948e+02</td>\n",
       "      <td>3.979000e+03</td>\n",
       "      <td>9.000000e+00</td>\n",
       "    </tr>\n",
       "    <tr>\n",
       "      <th>max</th>\n",
       "      <td>8.636900e+04</td>\n",
       "      <td>4.820000e+02</td>\n",
       "      <td>4.551000e+01</td>\n",
       "      <td>0.000000e+00</td>\n",
       "      <td>4.820000e+02</td>\n",
       "      <td>4.551000e+01</td>\n",
       "      <td>0.000000e+00</td>\n",
       "      <td>9.984300e+05</td>\n",
       "      <td>1.200000e+01</td>\n",
       "    </tr>\n",
       "  </tbody>\n",
       "</table>\n",
       "</div>"
      ],
      "text/plain": [
       "       duration_sec  start_station_id  start_station_latitude  \\\n",
       "count  4.468852e+06      4.468852e+06            4.468852e+06   \n",
       "mean   8.597963e+02      1.280617e+02            3.776964e+01   \n",
       "std    2.319863e+03      1.095758e+02            1.006432e-01   \n",
       "min    6.000000e+01      3.000000e+00            0.000000e+00   \n",
       "25%    3.570000e+02      3.700000e+01            3.777106e+01   \n",
       "50%    5.660000e+02      9.100000e+01            3.778107e+01   \n",
       "75%    8.830000e+02      1.970000e+02            3.779539e+01   \n",
       "max    8.636900e+04      4.820000e+02            4.551000e+01   \n",
       "\n",
       "       start_station_longitude  end_station_id  end_station_latitude  \\\n",
       "count             4.468852e+06    4.468852e+06          4.468852e+06   \n",
       "mean             -1.223545e+02    1.256500e+02          3.776956e+01   \n",
       "std               1.381410e-01    1.090939e+02          1.379971e-01   \n",
       "min              -1.224952e+02    3.000000e+00          0.000000e+00   \n",
       "25%              -1.224117e+02    3.000000e+01          3.777106e+01   \n",
       "50%              -1.223983e+02    9.000000e+01          3.778107e+01   \n",
       "75%              -1.222948e+02    1.960000e+02          3.779625e+01   \n",
       "max               0.000000e+00    4.820000e+02          4.551000e+01   \n",
       "\n",
       "       end_station_longitude       bike_id             m  \n",
       "count           4.468852e+06  4.468852e+06  4.468852e+06  \n",
       "mean           -1.223531e+02  5.158544e+03  6.615044e+00  \n",
       "std             3.357808e-01  3.372167e+04  3.155112e+00  \n",
       "min            -1.224952e+02  1.000000e+01  1.000000e+00  \n",
       "25%            -1.224113e+02  1.352000e+03  4.000000e+00  \n",
       "50%            -1.223974e+02  2.627000e+03  7.000000e+00  \n",
       "75%            -1.222948e+02  3.979000e+03  9.000000e+00  \n",
       "max             0.000000e+00  9.984300e+05  1.200000e+01  "
      ]
     },
     "execution_count": 16,
     "metadata": {},
     "output_type": "execute_result"
    }
   ],
   "source": [
    "df.describe()"
   ]
  },
  {
   "cell_type": "code",
   "execution_count": 17,
   "metadata": {
    "ExecuteTime": {
     "end_time": "2019-12-21T13:25:21.958022Z",
     "start_time": "2019-12-21T13:25:21.942389Z"
    }
   },
   "outputs": [
    {
     "name": "stdout",
     "output_type": "stream",
     "text": [
      "<class 'pandas.core.frame.DataFrame'>\n",
      "Int64Index: 4468852 entries, 0 to 4554805\n",
      "Data columns (total 16 columns):\n",
      "duration_sec               int64\n",
      "start_time                 datetime64[ns]\n",
      "end_time                   datetime64[ns]\n",
      "start_station_id           int64\n",
      "start_station_name         object\n",
      "start_station_latitude     float64\n",
      "start_station_longitude    float64\n",
      "end_station_id             int64\n",
      "end_station_name           object\n",
      "end_station_latitude       float64\n",
      "end_station_longitude      float64\n",
      "bike_id                    int64\n",
      "user_type                  object\n",
      "m                          int64\n",
      "m-y                        object\n",
      "d                          object\n",
      "dtypes: datetime64[ns](2), float64(4), int64(5), object(5)\n",
      "memory usage: 579.6+ MB\n"
     ]
    }
   ],
   "source": [
    "df.info()"
   ]
  },
  {
   "cell_type": "markdown",
   "metadata": {},
   "source": [
    "**Data structure:**\n",
    "- About 4.5M rows and 13 columns\n",
    "- information included: using duration, start and end time, station name, id, coordinates, user type and bike id\n",
    "\n",
    "**Interested questions**\n",
    "\n",
    "- what is the use rate of each bike? This could help to determine if more bike is needed, and show a clear pattern of use rate?\n",
    "- What the difference and similar of Customer and Subscriber riding patterns? The outcome helps nagivate the two class of customer and on the price model\n",
    "- Where is most used location? This is useful to place the docking station for bikes"
   ]
  },
  {
   "cell_type": "markdown",
   "metadata": {},
   "source": [
    "<a id=\"use_rate\"></a>\n",
    "## 1. How the use rate of Ford GoBike?"
   ]
  },
  {
   "cell_type": "code",
   "execution_count": 18,
   "metadata": {
    "ExecuteTime": {
     "end_time": "2019-12-21T13:25:30.788661Z",
     "start_time": "2019-12-21T13:25:30.780891Z"
    }
   },
   "outputs": [],
   "source": [
    "# convert a string object to a datetime and reindex\n",
    "def fmt_df(df):\n",
    "    df.index = pd.to_datetime(df.index, format='%m-%Y')\n",
    "    df.sort_index(inplace=True)\n",
    "    return df"
   ]
  },
  {
   "cell_type": "code",
   "execution_count": 19,
   "metadata": {
    "ExecuteTime": {
     "end_time": "2019-12-21T13:25:31.477739Z",
     "start_time": "2019-12-21T13:25:31.467303Z"
    }
   },
   "outputs": [],
   "source": [
    "# make the axis count more readable\n",
    "def transform_axis_fmt(tick_val, pos):\n",
    "    if tick_val <1_000:\n",
    "        return int(tick_val)\n",
    "    elif tick_val < 1_000_000:\n",
    "        val = int(tick_val/1000)\n",
    "        return '{:d}K'.format(val)\n",
    "    else:\n",
    "        val = int(tick_val/1_000_000)\n",
    "        return '{:d}M'.format(val)"
   ]
  },
  {
   "cell_type": "code",
   "execution_count": 20,
   "metadata": {
    "ExecuteTime": {
     "end_time": "2019-12-21T13:25:33.772411Z",
     "start_time": "2019-12-21T13:25:33.304615Z"
    }
   },
   "outputs": [],
   "source": [
    " # let count numeber of rides by month and sort by index\n",
    "rides = df.groupby('m-y').size()\n",
    "rides = fmt_df(rides)"
   ]
  },
  {
   "cell_type": "code",
   "execution_count": 23,
   "metadata": {
    "ExecuteTime": {
     "end_time": "2019-12-21T13:25:53.335551Z",
     "start_time": "2019-12-21T13:25:52.876161Z"
    }
   },
   "outputs": [
    {
     "data": {
      "image/png": "[encoded data removed]",
      "text/plain": [
       "<Figure size 432x288 with 1 Axes>"
      ]
     },
     "metadata": {
      "needs_background": "light"
     },
     "output_type": "display_data"
    }
   ],
   "source": [
    "# a quick look\n",
    "rides.plot(kind='line');"
   ]
  },
  {
   "cell_type": "code",
   "execution_count": 24,
   "metadata": {
    "ExecuteTime": {
     "end_time": "2019-12-21T13:26:03.853387Z",
     "start_time": "2019-12-21T13:25:56.768945Z"
    }
   },
   "outputs": [],
   "source": [
    "# and also number of bikes by month\n",
    "bikes = df.groupby('m-y').bike_id.nunique()\n",
    "bikes = fmt_df(bikes)"
   ]
  },
  {
   "cell_type": "code",
   "execution_count": 25,
   "metadata": {
    "ExecuteTime": {
     "end_time": "2019-12-21T13:26:04.355609Z",
     "start_time": "2019-12-21T13:26:03.857095Z"
    }
   },
   "outputs": [
    {
     "data": {
      "image/png": "[encoded data removed]",
      "text/plain": [
       "<Figure size 432x288 with 1 Axes>"
      ]
     },
     "metadata": {
      "needs_background": "light"
     },
     "output_type": "display_data"
    }
   ],
   "source": [
    "bikes.plot(kind='line');"
   ]
  },
  {
   "cell_type": "code",
   "execution_count": 26,
   "metadata": {
    "ExecuteTime": {
     "end_time": "2019-12-21T13:26:07.303869Z",
     "start_time": "2019-12-21T13:26:07.295741Z"
    }
   },
   "outputs": [],
   "source": [
    "# also, number of rides per bike per month show the use rate\n",
    "ride_df = rides.copy(deep=True)\n",
    "ride_df = ride_df.divide(bikes);"
   ]
  },
  {
   "cell_type": "code",
   "execution_count": 27,
   "metadata": {
    "ExecuteTime": {
     "end_time": "2019-12-21T13:26:08.280923Z",
     "start_time": "2019-12-21T13:26:08.274627Z"
    }
   },
   "outputs": [],
   "source": [
    "# additional imports to make the graphs look betters\n",
    "import matplotlib.ticker as tick"
   ]
  },
  {
   "cell_type": "code",
   "execution_count": 33,
   "metadata": {
    "ExecuteTime": {
     "end_time": "2019-12-21T13:30:51.809263Z",
     "start_time": "2019-12-21T13:30:50.597314Z"
    }
   },
   "outputs": [
    {
     "data": {
      "image/png": "[encoded data removed]",
      "text/plain": [
       "<Figure size 864x864 with 3 Axes>"
      ]
     },
     "metadata": {
      "needs_background": "light"
     },
     "output_type": "display_data"
    }
   ],
   "source": [
    "fig = plt.figure(figsize=(12, 12))\n",
    "gridsize = (3, 2)\n",
    "fig.suptitle('Number of rides, bikes and average usage', y=0.70, fontsize=22) \n",
    "\n",
    "ax1 = plt.subplot2grid(gridsize, (1, 0))\n",
    "ax1.xaxis.set_ticklabels([])\n",
    "ax1.stackplot(rides.index, rides.values, alpha=0.5)\n",
    "ax1.yaxis.set_major_formatter(tick.FuncFormatter(transform_axis_fmt))\n",
    "ax1.legend(labels=['Rides per month'], loc='upper left')\n",
    "\n",
    "ax2 = plt.subplot2grid(gridsize, (1, 1))\n",
    "ax2.xaxis.set_ticklabels([])\n",
    "ax2.stackplot(bikes.index, bikes.values, alpha=0.5)\n",
    "ax2.yaxis.set_major_formatter(tick.FuncFormatter(transform_axis_fmt))\n",
    "ax2.legend(labels=['Bikes in circular each month'], loc='upper left')\n",
    "\n",
    "\n",
    "ax3 = plt.subplot2grid(gridsize, (2, 0), colspan=2, rowspan=2)\n",
    "plt.plot(ride_df.index, ride_df.values, alpha=0.8, c='black', linewidth=2);\n",
    "ax3.set_ylabel('Rides per bike, monthly')\n",
    "plt.tight_layout()"
   ]
  },
  {
   "cell_type": "markdown",
   "metadata": {},
   "source": [
    "- Adoption rates shot up quickly around July, June 2017\n",
    "- Summer time in SF has a higher rate of use in compared the the winter in the same year"
   ]
  },
  {
   "cell_type": "markdown",
   "metadata": {},
   "source": [
    "<a id=\"duration\"></a>\n",
    "## 2. What is duration ride between Customer and Subscriber?"
   ]
  },
  {
   "cell_type": "code",
   "execution_count": 29,
   "metadata": {
    "ExecuteTime": {
     "end_time": "2019-12-21T13:27:47.805877Z",
     "start_time": "2019-12-21T13:27:47.795923Z"
    }
   },
   "outputs": [],
   "source": [
    "# make the axis count more readable\n",
    "def transform_axis_fmt_time(tick_val, pos):\n",
    "    if tick_val <60:\n",
    "        return tick_val\n",
    "    elif tick_val < 3_600:\n",
    "        val = tick_val/60\n",
    "        return '{:.0f}m'.format(val)\n",
    "    else:\n",
    "        val = tick_val/3_600\n",
    "        return '{:.0f}h'.format(val)"
   ]
  },
  {
   "cell_type": "code",
   "execution_count": 47,
   "metadata": {
    "ExecuteTime": {
     "end_time": "2019-12-21T13:42:26.543429Z",
     "start_time": "2019-12-21T13:42:16.663580Z"
    },
    "scrolled": true
   },
   "outputs": [
    {
     "data": {
      "image/png": "[encoded data removed]",
      "text/plain": [
       "<Figure size 1080x360 with 1 Axes>"
      ]
     },
     "metadata": {
      "needs_background": "light"
     },
     "output_type": "display_data"
    }
   ],
   "source": [
    "# and distribution, 2000 bins is not very practical\n",
    "ax = sns.distplot(df.duration_sec, bins=2000)\n",
    "plt.xscale('log');"
   ]
  },
  {
   "cell_type": "code",
   "execution_count": 35,
   "metadata": {
    "ExecuteTime": {
     "end_time": "2019-12-21T13:31:24.053435Z",
     "start_time": "2019-12-21T13:31:21.842758Z"
    }
   },
   "outputs": [
    {
     "data": {
      "image/png": "[encoded data removed]",
      "text/plain": [
       "<Figure size 720x288 with 2 Axes>"
      ]
     },
     "metadata": {
      "needs_background": "light"
     },
     "output_type": "display_data"
    }
   ],
   "source": [
    "# let have a look at the average ride time\n",
    "fig, (ax1, ax2) = plt.subplots(ncols=1, nrows=2, figsize=(10,4), )\n",
    "fig.suptitle('Average ride time, sec', y=1.05, fontsize=22) \n",
    "\n",
    "ax1.boxplot(x=df.duration_sec, vert=False, widths=10, showmeans=True)\n",
    "ax1.set_xscale('log')\n",
    "ax1.xaxis.set_major_formatter(tick.FuncFormatter(transform_axis_fmt_time))\n",
    "ax1.set_yticklabels(['with outliers']);\n",
    "\n",
    "ax2.boxplot(x=df.duration_sec, vert=False, widths=10, showmeans=True, showfliers=False)\n",
    "ax2.set_yticklabels(['no outliers']);\n",
    "ax2.xaxis.set_major_formatter(tick.FuncFormatter(transform_axis_fmt_time))\n",
    "ax2.set_xlabel('Ride time');\n",
    "plt.tight_layout()"
   ]
  },
  {
   "cell_type": "code",
   "execution_count": 49,
   "metadata": {
    "ExecuteTime": {
     "end_time": "2019-12-21T13:44:30.094882Z",
     "start_time": "2019-12-21T13:44:29.869341Z"
    }
   },
   "outputs": [],
   "source": [
    "# let check the range of duration\n",
    "stats = df.duration_sec.describe()"
   ]
  },
  {
   "cell_type": "code",
   "execution_count": 53,
   "metadata": {
    "ExecuteTime": {
     "end_time": "2019-12-21T13:46:08.550075Z",
     "start_time": "2019-12-21T13:46:08.544135Z"
    }
   },
   "outputs": [
    {
     "name": "stdout",
     "output_type": "stream",
     "text": [
      "Mean: 14; Median: 9\n"
     ]
    }
   ],
   "source": [
    "# check mean and median\n",
    "print(f'Mean: {stats[\"mean\"]/60:.0f}; Median: {stats[\"50%\"]/60:.0f}')"
   ]
  },
  {
   "cell_type": "markdown",
   "metadata": {},
   "source": [
    "On average, riders use the bike for 14 minutes, and 50% of riders uses the bike less than 9 minutes (*or the other 50% uses the bike for more than 9 minutes*)"
   ]
  },
  {
   "cell_type": "markdown",
   "metadata": {},
   "source": [
    "On average, Customer and Subscriber use the bike less than 10 minutes. This is smaller than 30-min ride for Customer and 45-min ride allowance. Extra minutes is accepted with different [pricing](https://www.lyft.com/bikes/bay-wheels/pricing)"
   ]
  },
  {
   "cell_type": "code",
   "execution_count": 54,
   "metadata": {
    "ExecuteTime": {
     "end_time": "2019-12-21T13:59:46.628691Z",
     "start_time": "2019-12-21T13:59:46.622876Z"
    }
   },
   "outputs": [],
   "source": [
    "# from scipy import stats\n",
    "# # df[(np.abs(stats.zscore(df)) < 3).all(axis=1)]\n",
    "# df[(np.abs(stats.zscore(df.duration_sec)) < 3)].describe()"
   ]
  },
  {
   "cell_type": "markdown",
   "metadata": {},
   "source": [
    "let get the mean by sns [plot](https://stackoverflow.com/questions/54376452/how-can-i-determine-and-remove-outliers-found-by-boxplot-in-python)"
   ]
  },
  {
   "cell_type": "code",
   "execution_count": 134,
   "metadata": {
    "ExecuteTime": {
     "end_time": "2019-12-21T14:50:21.807030Z",
     "start_time": "2019-12-21T14:50:21.794183Z"
    }
   },
   "outputs": [],
   "source": [
    "# get stats summary without outliers by 1.5IQR (match seaborn boxplot)\n",
    "def get_stats(df, col_name='duration_sec'):\n",
    "    Q1 =  df[col_name].quantile(0.25)\n",
    "    Q3 = df[col_name].quantile(0.75)\n",
    "    IQR = Q3 - Q1\n",
    "    stats = df[(df[col_name] > Q1-1.5*IQR ) | (df[col_name] < Q3+1.5*IQR)][col_name].describe()\n",
    "    return stats"
   ]
  },
  {
   "cell_type": "code",
   "execution_count": 73,
   "metadata": {
    "ExecuteTime": {
     "end_time": "2019-12-21T14:11:41.361829Z",
     "start_time": "2019-12-21T14:11:36.606612Z"
    },
    "scrolled": true
   },
   "outputs": [],
   "source": [
    "stats_c = get_stats(df.query(\"user_type=='Customer'\"))\n",
    "stats_s = get_stats(df.query(\"user_type=='Subscriber'\"))"
   ]
  },
  {
   "cell_type": "code",
   "execution_count": 71,
   "metadata": {
    "ExecuteTime": {
     "end_time": "2019-12-21T14:10:55.565765Z",
     "start_time": "2019-12-21T14:10:55.560472Z"
    }
   },
   "outputs": [],
   "source": [
    "base_color = sns.color_palette()[0]"
   ]
  },
  {
   "cell_type": "code",
   "execution_count": 76,
   "metadata": {
    "ExecuteTime": {
     "end_time": "2019-12-21T14:13:16.181866Z",
     "start_time": "2019-12-21T14:13:16.170661Z"
    }
   },
   "outputs": [
    {
     "data": {
      "text/plain": [
       "[('count', 3719888.0),\n",
       " ('mean', 672.1246282146129),\n",
       " ('std', 1352.1278266030665),\n",
       " ('min', 60.0),\n",
       " ('25%', 335.0),\n",
       " ('50%', 522.0),\n",
       " ('75%', 792.0),\n",
       " ('max', 86281.0)]"
      ]
     },
     "execution_count": 76,
     "metadata": {},
     "output_type": "execute_result"
    }
   ],
   "source": [
    "list(stats_s.items())"
   ]
  },
  {
   "cell_type": "code",
   "execution_count": 87,
   "metadata": {
    "ExecuteTime": {
     "end_time": "2019-12-21T14:15:42.216892Z",
     "start_time": "2019-12-21T14:15:42.212540Z"
    }
   },
   "outputs": [],
   "source": [
    "s_text = f'Minutes\\nMean: {stats_s[\"mean\"]/60:.0f} \\nMedian: {stats_s[\"50%\"]/60:.0f}'"
   ]
  },
  {
   "cell_type": "code",
   "execution_count": 99,
   "metadata": {
    "ExecuteTime": {
     "end_time": "2019-12-21T14:21:24.353738Z",
     "start_time": "2019-12-21T14:21:24.348962Z"
    }
   },
   "outputs": [],
   "source": [
    "c_text = f'Minutes\\nMean: {stats_c[\"mean\"]/60:.0f} \\nMedian: {stats_c[\"50%\"]/60:.0f}'"
   ]
  },
  {
   "cell_type": "code",
   "execution_count": 107,
   "metadata": {
    "ExecuteTime": {
     "end_time": "2019-12-21T14:25:05.672999Z",
     "start_time": "2019-12-21T14:25:05.668289Z"
    }
   },
   "outputs": [],
   "source": [
    "# bbox_props = dict(boxstyle=\"round,pad=0.3\", fc=\"white\", ec=\"white\", lw=2)\n",
    "bbox_props = dict(boxstyle=\"round,pad=0.3\", fc=\"white\", alpha=0.8)"
   ]
  },
  {
   "cell_type": "code",
   "execution_count": 108,
   "metadata": {
    "ExecuteTime": {
     "end_time": "2019-12-21T14:25:11.948102Z",
     "start_time": "2019-12-21T14:25:10.742529Z"
    }
   },
   "outputs": [
    {
     "data": {
      "image/png": "[encoded data removed]",
      "text/plain": [
       "<Figure size 720x576 with 1 Axes>"
      ]
     },
     "metadata": {
      "needs_background": "light"
     },
     "output_type": "display_data"
    }
   ],
   "source": [
    "# and how Customer and Subscriber ride duration looks like?\n",
    "fig, ax = plt.subplots(figsize=(10,8))\n",
    "ax = sns.boxplot(data=df, x='user_type', y='duration_sec', \n",
    "                 color=base_color,showfliers=False,\n",
    "                width=0.5)\n",
    "ax.set_xlabel('')\n",
    "ax.yaxis.set_major_formatter(tick.FuncFormatter(transform_axis_fmt_time))\n",
    "ax.set_ylabel('Ride duration, sec');\n",
    "plt.annotate(s_text, xy=(-.2, 17*2*60), xycoords=\"data\", bbox=bbox_props, size=18, ha=\"center\", va=\"center\");\n",
    "plt.annotate(c_text, xy=(0.8, 17*2*60), xycoords=\"data\", bbox=bbox_props, size=18, ha=\"center\", va=\"center\");"
   ]
  },
  {
   "cell_type": "markdown",
   "metadata": {},
   "source": [
    "- On average, Subsribers rode bikes less time than Customers\n",
    "- Averege duration time for Subsriber is ~11 minutes/trip, Customers was ~30 minutes/trip\n",
    "- 50% of Subsribers rode bikes less than 9 minutes/trip, 50% of Customers was ~30 minutes/trip"
   ]
  },
  {
   "cell_type": "code",
   "execution_count": 109,
   "metadata": {
    "ExecuteTime": {
     "end_time": "2019-12-21T14:27:31.682899Z",
     "start_time": "2019-12-21T14:27:30.850005Z"
    }
   },
   "outputs": [],
   "source": [
    "# on first look, Customer seems to be a better target ridership\n",
    "# let look one level deeper\n",
    "users = df.groupby(['m-y', 'user_type']).size()\n",
    "users = users.reset_index(name='size')\n",
    "users = users.pivot(index='m-y', columns='user_type', values='size')\n",
    "users = fmt_df(users)"
   ]
  },
  {
   "cell_type": "code",
   "execution_count": 114,
   "metadata": {
    "ExecuteTime": {
     "end_time": "2019-12-21T14:27:59.504223Z",
     "start_time": "2019-12-21T14:27:58.964317Z"
    }
   },
   "outputs": [
    {
     "data": {
      "image/png": "[encoded data removed]",
      "text/plain": [
       "<Figure size 1080x360 with 1 Axes>"
      ]
     },
     "metadata": {
      "needs_background": "light"
     },
     "output_type": "display_data"
    }
   ],
   "source": [
    "# let look at number of Customer and Subsriber over time\n",
    "plt.figure()\n",
    "plt.stackplot(users.index, users.Customer, users.Subscriber, alpha=0.5)\n",
    "plt.legend(['Customer', 'Subscriber'], loc='upper left')\n",
    "ax = plt.gca()\n",
    "ax.yaxis.set_major_formatter(tick.FuncFormatter(transform_axis_fmt))\n",
    "# plt.xticks(rotation=15)\n",
    "\n",
    "plt.tight_layout()"
   ]
  },
  {
   "cell_type": "code",
   "execution_count": 111,
   "metadata": {
    "ExecuteTime": {
     "end_time": "2019-12-21T14:27:43.704526Z",
     "start_time": "2019-12-21T14:27:42.736367Z"
    }
   },
   "outputs": [],
   "source": [
    "# The system has more Subsribers and they rode less than Customers\n",
    "# let look at the total ride duration of each class\n",
    "dfsum = df.groupby(['d', 'user_type']).duration_sec.sum().reset_index(name='sum')\n",
    "dfsum = dfsum.pivot(index='d', columns='user_type', values='sum')"
   ]
  },
  {
   "cell_type": "code",
   "execution_count": 112,
   "metadata": {
    "ExecuteTime": {
     "end_time": "2019-12-21T14:27:44.509717Z",
     "start_time": "2019-12-21T14:27:44.477744Z"
    }
   },
   "outputs": [],
   "source": [
    "dfsum.index = pd.to_datetime(dfsum.index)\n",
    "# this looks at weekly rolling average\n",
    "ma = dfsum.rolling('7d').mean()"
   ]
  },
  {
   "cell_type": "code",
   "execution_count": 117,
   "metadata": {
    "ExecuteTime": {
     "end_time": "2019-12-21T14:28:34.233174Z",
     "start_time": "2019-12-21T14:28:33.636560Z"
    }
   },
   "outputs": [
    {
     "data": {
      "image/png": "[encoded data removed]",
      "text/plain": [
       "<Figure size 1080x360 with 1 Axes>"
      ]
     },
     "metadata": {
      "needs_background": "light"
     },
     "output_type": "display_data"
    }
   ],
   "source": [
    "fig, ax = plt.subplots()\n",
    "ax.plot(dfsum.index, dfsum.Customer, alpha=0.3, c='blue')\n",
    "ax.plot(dfsum.index, dfsum.Subscriber, alpha=0.3, c='red')\n",
    "ax.plot(ma.index, ma.Customer, label='Customer', c='blue')\n",
    "ax.plot(ma.index, ma.Subscriber, label='Subscriber',c='red' )\n",
    "ax.yaxis.set_major_formatter(tick.FuncFormatter(transform_axis_fmt))\n",
    "ax.legend(loc=\"upper left\")\n",
    "ax.set_ylabel('Total duration, sec');\n",
    "# plt.yscale('log')"
   ]
  },
  {
   "cell_type": "markdown",
   "metadata": {},
   "source": [
    "- interesting! based on [0pricing model](https://www.lyft.com/bikes/bay-wheels/pricing), Customer paid \\\\$2 for 30-minute ride and Subscriber paid \\\\$15 for 45-minute ride unlimited.\n",
    "- Ford GoBike adopted by Customer at the early state which suggests the membership was not fully rolled out\n",
    "- the total ride time of Subscribers are higher than Customers after early stage"
   ]
  },
  {
   "cell_type": "markdown",
   "metadata": {},
   "source": [
    "<a id=\"riding_pattern\"></a>\n",
    "## 3. What is riding pattern between Customer and Subscriber?"
   ]
  },
  {
   "cell_type": "code",
   "execution_count": 118,
   "metadata": {
    "ExecuteTime": {
     "end_time": "2019-12-21T14:30:31.715984Z",
     "start_time": "2019-12-21T14:29:34.474203Z"
    }
   },
   "outputs": [],
   "source": [
    "# let group hour and day in week to travel riding pattern\n",
    "df['h'] = df.start_time.apply(lambda x: x.hour)\n",
    "df['dofw'] = df.start_time.apply(lambda x: x.weekday())"
   ]
  },
  {
   "cell_type": "code",
   "execution_count": 119,
   "metadata": {
    "ExecuteTime": {
     "end_time": "2019-12-21T14:30:32.673925Z",
     "start_time": "2019-12-21T14:30:31.721022Z"
    }
   },
   "outputs": [
    {
     "data": {
      "text/plain": [
       "<matplotlib.axes._subplots.AxesSubplot at 0x7fd1bec20cf8>"
      ]
     },
     "execution_count": 119,
     "metadata": {},
     "output_type": "execute_result"
    },
    {
     "data": {
      "image/png": "[encoded data removed]",
      "text/plain": [
       "<Figure size 1080x360 with 1 Axes>"
      ]
     },
     "metadata": {
      "needs_background": "light"
     },
     "output_type": "display_data"
    }
   ],
   "source": [
    "# a quick look at number of rides in each day of weeks\n",
    "# 0 = Monday, 6= Sunday\n",
    "df.groupby('dofw').size().plot(kind='line')"
   ]
  },
  {
   "cell_type": "code",
   "execution_count": 120,
   "metadata": {
    "ExecuteTime": {
     "end_time": "2019-12-21T14:30:33.195752Z",
     "start_time": "2019-12-21T14:30:32.678320Z"
    }
   },
   "outputs": [
    {
     "data": {
      "image/png": "[encoded data removed]",
      "text/plain": [
       "<Figure size 1080x360 with 1 Axes>"
      ]
     },
     "metadata": {
      "needs_background": "light"
     },
     "output_type": "display_data"
    }
   ],
   "source": [
    "# and during the day. It makes sense the bikes were used \n",
    "# for short commutes\n",
    "df.groupby('h').size().plot(kind='line');"
   ]
  },
  {
   "cell_type": "code",
   "execution_count": 121,
   "metadata": {
    "ExecuteTime": {
     "end_time": "2019-12-21T14:30:34.409710Z",
     "start_time": "2019-12-21T14:30:33.200240Z"
    }
   },
   "outputs": [],
   "source": [
    "# let looks close to each class of Customer and Subsriber\n",
    "dfc = df.query('user_type==\"Customer\"')\n",
    "dfs = df.query('user_type==\"Subscriber\"')"
   ]
  },
  {
   "cell_type": "code",
   "execution_count": 122,
   "metadata": {
    "ExecuteTime": {
     "end_time": "2019-12-21T14:30:34.482366Z",
     "start_time": "2019-12-21T14:30:34.413173Z"
    }
   },
   "outputs": [],
   "source": [
    "# customer\n",
    "var = 'dofw'\n",
    "df_extract = dfc.groupby(['h', var]).size().reset_index(name='size')\n",
    "dfcc = df_extract.pivot(index='h', columns=var, values='size')"
   ]
  },
  {
   "cell_type": "code",
   "execution_count": 123,
   "metadata": {
    "ExecuteTime": {
     "end_time": "2019-12-21T14:30:34.755585Z",
     "start_time": "2019-12-21T14:30:34.487884Z"
    }
   },
   "outputs": [],
   "source": [
    "# subscriber\n",
    "var = 'dofw'\n",
    "df_extract = dfs.groupby(['h', var]).size().reset_index(name='size')\n",
    "dfss = df_extract.pivot(index='h', columns=var, values='size')"
   ]
  },
  {
   "cell_type": "code",
   "execution_count": 124,
   "metadata": {
    "ExecuteTime": {
     "end_time": "2019-12-21T14:30:34.762993Z",
     "start_time": "2019-12-21T14:30:34.758069Z"
    }
   },
   "outputs": [],
   "source": [
    "xticks = ['M', 'T', 'W', 'Th', 'F', 'Sa', 'Su']\n",
    "#  xticklabels=xticks"
   ]
  },
  {
   "cell_type": "code",
   "execution_count": 126,
   "metadata": {
    "ExecuteTime": {
     "end_time": "2019-12-21T14:31:13.476295Z",
     "start_time": "2019-12-21T14:31:12.601500Z"
    }
   },
   "outputs": [
    {
     "data": {
      "image/png": "[encoded data removed]",
      "text/plain": [
       "<Figure size 1080x360 with 4 Axes>"
      ]
     },
     "metadata": {
      "needs_background": "light"
     },
     "output_type": "display_data"
    }
   ],
   "source": [
    "fig, (ax1, ax2) = plt.subplots(ncols=2, sharey=True)\n",
    "fig.suptitle('Bike riding pattern',y=1.05, fontsize=20)\n",
    "ax1.set_title('Subscriber')\n",
    "sns.heatmap(ax=ax1, data=dfss, cmap='viridis_r', \n",
    "            linewidth=0.5, linecolor='lightgray', xticklabels=xticks)\n",
    "plt.sca(ax1)\n",
    "plt.yticks(rotation=0)\n",
    "\n",
    "ax2.set_title('Customer')\n",
    "sns.heatmap(ax=ax2, data=dfcc, cmap='viridis_r', \n",
    "            linewidth=0.5, linecolor='lightgray', xticklabels=xticks)\n",
    "ax2.set_ylabel('')\n",
    "ax2.set_xlabel('')\n",
    "ax1.set_xlabel('')\n",
    "ax1.set_ylabel('Hour');"
   ]
  },
  {
   "cell_type": "markdown",
   "metadata": {},
   "source": [
    "- Subsriber used bike for commutes\n",
    "- Customers used bike for some commute, but mostly for the weekends\n",
    "- There are about 6 times more rides by Customers than Subscriber with the same color tone"
   ]
  },
  {
   "cell_type": "code",
   "execution_count": 131,
   "metadata": {
    "ExecuteTime": {
     "end_time": "2019-12-21T14:48:04.692580Z",
     "start_time": "2019-12-21T14:48:04.461967Z"
    }
   },
   "outputs": [],
   "source": [
    "del dfc\n",
    "del dfs"
   ]
  },
  {
   "cell_type": "markdown",
   "metadata": {},
   "source": [
    "<a id=\"time_speed\"></a>\n",
    "## 4. What is riding distance and speed  between Customer and Subscriber?"
   ]
  },
  {
   "cell_type": "code",
   "execution_count": 127,
   "metadata": {
    "ExecuteTime": {
     "end_time": "2019-12-21T14:39:30.632678Z",
     "start_time": "2019-12-21T14:39:30.627701Z"
    }
   },
   "outputs": [],
   "source": [
    "from math import sin, cos, sqrt, atan2, radians"
   ]
  },
  {
   "cell_type": "code",
   "execution_count": 128,
   "metadata": {
    "ExecuteTime": {
     "end_time": "2019-12-21T14:39:32.957676Z",
     "start_time": "2019-12-21T14:39:32.944904Z"
    }
   },
   "outputs": [],
   "source": [
    "# calculate distance by coordinates\n",
    "R = 6373.0\n",
    "def cal_distance(pos1=None, pos2=None):\n",
    "    if isinstance(pos1, tuple) and isinstance(pos1, tuple):\n",
    "        lat1, lon1 = pos1\n",
    "        lat2, lon2 = pos2\n",
    "        lat1 = radians(abs(lat1))\n",
    "        lon1 = radians(abs(lon1))\n",
    "        lat2 = radians(abs(lat2))\n",
    "        lon2 = radians(abs(lon2))\n",
    "        dlon = lon2 - lon1\n",
    "        dlat = lat2 - lat1\n",
    "        a = sin(dlat / 2)**2 + cos(lat1) * cos(lat2) * sin(dlon / 2)**2\n",
    "        c = 2 * atan2(sqrt(a), sqrt(1 - a))\n",
    "        distance = R * c\n",
    "        return distance\n",
    "    else:\n",
    "        print('Latitude and longtide is not in tuple. Exit.')\n",
    "        exit()"
   ]
  },
  {
   "cell_type": "code",
   "execution_count": 129,
   "metadata": {
    "ExecuteTime": {
     "end_time": "2019-12-21T14:48:04.290428Z",
     "start_time": "2019-12-21T14:39:35.923976Z"
    }
   },
   "outputs": [],
   "source": [
    "df['distance'] = df.apply(lambda row: cal_distance((row.start_station_latitude, row.start_station_longitude),\n",
    "                                       (row.end_station_latitude, row.end_station_longitude)), axis=1)"
   ]
  },
  {
   "cell_type": "code",
   "execution_count": 130,
   "metadata": {
    "ExecuteTime": {
     "end_time": "2019-12-21T14:48:04.454250Z",
     "start_time": "2019-12-21T14:48:04.302691Z"
    }
   },
   "outputs": [],
   "source": [
    "df['speed'] = df.distance/(df.duration_sec/3600)"
   ]
  },
  {
   "cell_type": "code",
   "execution_count": 132,
   "metadata": {
    "ExecuteTime": {
     "end_time": "2019-12-21T14:48:42.202243Z",
     "start_time": "2019-12-21T14:48:41.623137Z"
    }
   },
   "outputs": [
    {
     "data": {
      "image/png": "[encoded data removed]",
      "text/plain": [
       "<Figure size 864x144 with 1 Axes>"
      ]
     },
     "metadata": {
      "needs_background": "light"
     },
     "output_type": "display_data"
    }
   ],
   "source": [
    "fig, ax = plt.subplots(figsize=(12,2))\n",
    "ax.set_title('Distance travel, km');\n",
    "ax.boxplot(x=df.distance, vert=False, widths=8, showmeans=True, showfliers=False);\n",
    "ax.set_yticklabels([]);"
   ]
  },
  {
   "cell_type": "code",
   "execution_count": 135,
   "metadata": {
    "ExecuteTime": {
     "end_time": "2019-12-21T14:50:38.657816Z",
     "start_time": "2019-12-21T14:50:35.640813Z"
    }
   },
   "outputs": [
    {
     "name": "stdout",
     "output_type": "stream",
     "text": [
      "1.7273009738458267 1.4124255594677495\n"
     ]
    }
   ],
   "source": [
    "stats = get_stats(df, col_name='distance')\n",
    "print(stats['mean'], stats['50%'])"
   ]
  },
  {
   "cell_type": "markdown",
   "metadata": {},
   "source": [
    "Average riding distance was about 1.7km, with 50% riders traveled less than 1.4km."
   ]
  },
  {
   "cell_type": "code",
   "execution_count": 84,
   "metadata": {},
   "outputs": [],
   "source": [
    "# df.to_csv('/tmp/sf_bikeshare_process.csv', index=False)"
   ]
  },
  {
   "cell_type": "code",
   "execution_count": 136,
   "metadata": {
    "ExecuteTime": {
     "end_time": "2019-12-21T14:52:40.647444Z",
     "start_time": "2019-12-21T14:52:40.104601Z"
    }
   },
   "outputs": [
    {
     "data": {
      "image/png": "[encoded data removed]",
      "text/plain": [
       "<Figure size 864x144 with 1 Axes>"
      ]
     },
     "metadata": {
      "needs_background": "light"
     },
     "output_type": "display_data"
    }
   ],
   "source": [
    "plt.figure(figsize=(12,2))\n",
    "plt.title('Riding speed, km/h');\n",
    "plt.boxplot(x=df.speed, vert=False, widths=10, showmeans=True, showfliers=False);\n",
    "ax = plt.gca()\n",
    "ax.set_yticklabels([]);"
   ]
  },
  {
   "cell_type": "code",
   "execution_count": 137,
   "metadata": {
    "ExecuteTime": {
     "end_time": "2019-12-21T14:52:48.692830Z",
     "start_time": "2019-12-21T14:52:47.141473Z"
    }
   },
   "outputs": [
    {
     "name": "stdout",
     "output_type": "stream",
     "text": [
      "10.00595437285613 9.86509460407527\n"
     ]
    }
   ],
   "source": [
    "stats = get_stats(df, col_name='speed')\n",
    "print(stats['mean'], stats['50%'])"
   ]
  },
  {
   "cell_type": "code",
   "execution_count": 142,
   "metadata": {
    "ExecuteTime": {
     "end_time": "2019-12-21T14:55:22.523224Z",
     "start_time": "2019-12-21T14:55:22.501582Z"
    }
   },
   "outputs": [
    {
     "data": {
      "text/plain": [
       "(31, 20)"
      ]
     },
     "execution_count": 142,
     "metadata": {},
     "output_type": "execute_result"
    }
   ],
   "source": [
    "# a few trip seems don't make sense, this could be, but only in a few\n",
    "df[df.speed > 50].shape"
   ]
  },
  {
   "cell_type": "code",
   "execution_count": 143,
   "metadata": {
    "ExecuteTime": {
     "end_time": "2019-12-21T14:55:44.055216Z",
     "start_time": "2019-12-21T14:55:40.202495Z"
    }
   },
   "outputs": [],
   "source": [
    "data = {'Subscriber_dist': df.query(\"user_type=='Subscriber'\").distance.describe(),\n",
    "       'Customer_dist': df.query(\"user_type=='Customer'\").distance.describe(),\n",
    "        'Subscriber_speed': df.query(\"user_type=='Subscriber'\").speed.describe(),\n",
    "       'Customer_speed': df.query(\"user_type=='Customer'\").speed.describe()\n",
    "       }"
   ]
  },
  {
   "cell_type": "code",
   "execution_count": 144,
   "metadata": {
    "ExecuteTime": {
     "end_time": "2019-12-21T14:55:44.101320Z",
     "start_time": "2019-12-21T14:55:44.069870Z"
    }
   },
   "outputs": [
    {
     "data": {
      "text/html": [
       "<div>\n",
       "<style scoped>\n",
       "    .dataframe tbody tr th:only-of-type {\n",
       "        vertical-align: middle;\n",
       "    }\n",
       "\n",
       "    .dataframe tbody tr th {\n",
       "        vertical-align: top;\n",
       "    }\n",
       "\n",
       "    .dataframe thead th {\n",
       "        text-align: right;\n",
       "    }\n",
       "</style>\n",
       "<table border=\"1\" class=\"dataframe\">\n",
       "  <thead>\n",
       "    <tr style=\"text-align: right;\">\n",
       "      <th></th>\n",
       "      <th>Subscriber_dist</th>\n",
       "      <th>Customer_dist</th>\n",
       "      <th>Subscriber_speed</th>\n",
       "      <th>Customer_speed</th>\n",
       "    </tr>\n",
       "  </thead>\n",
       "  <tbody>\n",
       "    <tr>\n",
       "      <th>count</th>\n",
       "      <td>3.719888e+06</td>\n",
       "      <td>748964.000000</td>\n",
       "      <td>3.719888e+06</td>\n",
       "      <td>748964.000000</td>\n",
       "    </tr>\n",
       "    <tr>\n",
       "      <th>mean</th>\n",
       "      <td>1.690487e+00</td>\n",
       "      <td>1.910145</td>\n",
       "      <td>1.054638e+01</td>\n",
       "      <td>7.321831</td>\n",
       "    </tr>\n",
       "    <tr>\n",
       "      <th>std</th>\n",
       "      <td>2.968701e+01</td>\n",
       "      <td>46.777387</td>\n",
       "      <td>2.523670e+02</td>\n",
       "      <td>120.390936</td>\n",
       "    </tr>\n",
       "    <tr>\n",
       "      <th>min</th>\n",
       "      <td>0.000000e+00</td>\n",
       "      <td>0.000000</td>\n",
       "      <td>0.000000e+00</td>\n",
       "      <td>0.000000</td>\n",
       "    </tr>\n",
       "    <tr>\n",
       "      <th>25%</th>\n",
       "      <td>8.860427e-01</td>\n",
       "      <td>0.959551</td>\n",
       "      <td>8.250471e+00</td>\n",
       "      <td>3.948784</td>\n",
       "    </tr>\n",
       "    <tr>\n",
       "      <th>50%</th>\n",
       "      <td>1.391528e+00</td>\n",
       "      <td>1.544763</td>\n",
       "      <td>1.021348e+01</td>\n",
       "      <td>7.395233</td>\n",
       "    </tr>\n",
       "    <tr>\n",
       "      <th>75%</th>\n",
       "      <td>2.105861e+00</td>\n",
       "      <td>2.366189</td>\n",
       "      <td>1.225912e+01</td>\n",
       "      <td>10.029885</td>\n",
       "    </tr>\n",
       "    <tr>\n",
       "      <th>max</th>\n",
       "      <td>1.280236e+04</td>\n",
       "      <td>12802.364548</td>\n",
       "      <td>2.632576e+05</td>\n",
       "      <td>60325.156306</td>\n",
       "    </tr>\n",
       "  </tbody>\n",
       "</table>\n",
       "</div>"
      ],
      "text/plain": [
       "       Subscriber_dist  Customer_dist  Subscriber_speed  Customer_speed\n",
       "count     3.719888e+06  748964.000000      3.719888e+06   748964.000000\n",
       "mean      1.690487e+00       1.910145      1.054638e+01        7.321831\n",
       "std       2.968701e+01      46.777387      2.523670e+02      120.390936\n",
       "min       0.000000e+00       0.000000      0.000000e+00        0.000000\n",
       "25%       8.860427e-01       0.959551      8.250471e+00        3.948784\n",
       "50%       1.391528e+00       1.544763      1.021348e+01        7.395233\n",
       "75%       2.105861e+00       2.366189      1.225912e+01       10.029885\n",
       "max       1.280236e+04   12802.364548      2.632576e+05    60325.156306"
      ]
     },
     "execution_count": 144,
     "metadata": {},
     "output_type": "execute_result"
    }
   ],
   "source": [
    "pd.DataFrame(data=data)"
   ]
  },
  {
   "cell_type": "markdown",
   "metadata": {},
   "source": [
    "- Subscribers rode on average 1.7 km/trip, Customers was 1.9 km/trip\n",
    "- Subscribers rode on average 10 km/h, Customers was 7.3 km/h"
   ]
  },
  {
   "cell_type": "code",
   "execution_count": 145,
   "metadata": {
    "ExecuteTime": {
     "end_time": "2019-12-21T14:57:49.931445Z",
     "start_time": "2019-12-21T14:57:48.467884Z"
    }
   },
   "outputs": [
    {
     "data": {
      "image/png": "[encoded data removed]",
      "text/plain": [
       "<Figure size 864x144 with 1 Axes>"
      ]
     },
     "metadata": {
      "needs_background": "light"
     },
     "output_type": "display_data"
    }
   ],
   "source": [
    "fig, ax = plt.subplots(figsize=(12,2))\n",
    "# plt.set_yticklabels([])\n",
    "ax.boxplot(x=df.query(\"user_type=='Subscriber'\").distance, vert=False, widths=8, showmeans=True, showfliers=False);\n",
    "ax.set_yticklabels([]);\n",
    "ax.set_xlabel('Subscriber: Distance travel, km', fontsize=18);"
   ]
  },
  {
   "cell_type": "code",
   "execution_count": 146,
   "metadata": {
    "ExecuteTime": {
     "end_time": "2019-12-21T14:58:08.878867Z",
     "start_time": "2019-12-21T14:58:08.182946Z"
    }
   },
   "outputs": [
    {
     "data": {
      "image/png": "[encoded data removed]",
      "text/plain": [
       "<Figure size 864x144 with 1 Axes>"
      ]
     },
     "metadata": {
      "needs_background": "light"
     },
     "output_type": "display_data"
    }
   ],
   "source": [
    "fig, ax = plt.subplots(figsize=(12,2))\n",
    "# plt.set_yticklabels([])\n",
    "ax.boxplot(x=df.query(\"user_type=='Customer'\").distance, vert=False, widths=8, showmeans=True, showfliers=False);\n",
    "ax.set_yticklabels([]);\n",
    "ax.set_xlabel('Customer: Distance travel, km', fontsize=18);"
   ]
  },
  {
   "cell_type": "code",
   "execution_count": 147,
   "metadata": {
    "ExecuteTime": {
     "end_time": "2019-12-21T14:58:48.652118Z",
     "start_time": "2019-12-21T14:58:47.024644Z"
    }
   },
   "outputs": [
    {
     "data": {
      "image/png": "[encoded data removed]",
      "text/plain": [
       "<Figure size 864x144 with 1 Axes>"
      ]
     },
     "metadata": {
      "needs_background": "light"
     },
     "output_type": "display_data"
    }
   ],
   "source": [
    "plt.figure(figsize=(12,2))\n",
    "plt.boxplot(x=df.query(\"user_type=='Subscriber'\").speed, vert=False, widths=10, showmeans=True, showfliers=False);\n",
    "ax.set_xlabel('Subscriber: Speed, km/h', fontsize=18);"
   ]
  },
  {
   "cell_type": "code",
   "execution_count": 148,
   "metadata": {
    "ExecuteTime": {
     "end_time": "2019-12-21T14:59:01.802898Z",
     "start_time": "2019-12-21T14:59:01.070899Z"
    }
   },
   "outputs": [
    {
     "data": {
      "image/png": "[encoded data removed]",
      "text/plain": [
       "<Figure size 864x144 with 1 Axes>"
      ]
     },
     "metadata": {
      "needs_background": "light"
     },
     "output_type": "display_data"
    }
   ],
   "source": [
    "plt.figure(figsize=(12,2))\n",
    "plt.boxplot(x=df.query(\"user_type=='Customer'\").speed, vert=False, widths=10, showmeans=True, showfliers=False);\n",
    "ax.set_xlabel('Customer: Speed, km/h', fontsize=18);"
   ]
  },
  {
   "cell_type": "markdown",
   "metadata": {},
   "source": [
    "- Subscribers rode bike faster. They used the bike for commute, so the route was charted out\n",
    "- Customers rode bike for pleasure"
   ]
  },
  {
   "cell_type": "markdown",
   "metadata": {},
   "source": [
    "<a id=\"freq_station\"></a>\n",
    "## 5. Where are most used stations?"
   ]
  },
  {
   "cell_type": "code",
   "execution_count": 149,
   "metadata": {
    "ExecuteTime": {
     "end_time": "2019-12-21T15:00:32.788098Z",
     "start_time": "2019-12-21T15:00:32.782265Z"
    }
   },
   "outputs": [],
   "source": [
    "# let define the box for Downtown San Francisco\n",
    "BBox = (-122.5152,   -122.3535,\n",
    "       37.8113, 37.7003)"
   ]
  },
  {
   "cell_type": "code",
   "execution_count": 150,
   "metadata": {
    "ExecuteTime": {
     "end_time": "2019-12-21T15:00:35.495249Z",
     "start_time": "2019-12-21T15:00:34.706369Z"
    }
   },
   "outputs": [],
   "source": [
    "# and filter out by the coordinate\n",
    "df = df[(df.start_station_latitude < BBox[2]) & (df.end_station_latitude > BBox[3]) &\n",
    "   (df.start_station_longitude > BBox[0]) & (df.start_station_longitude < BBox[1])]"
   ]
  },
  {
   "cell_type": "code",
   "execution_count": 151,
   "metadata": {
    "ExecuteTime": {
     "end_time": "2019-12-21T15:00:40.859382Z",
     "start_time": "2019-12-21T15:00:40.812320Z"
    }
   },
   "outputs": [],
   "source": [
    "import gmaps"
   ]
  },
  {
   "cell_type": "code",
   "execution_count": 152,
   "metadata": {
    "ExecuteTime": {
     "end_time": "2019-12-21T15:00:44.363666Z",
     "start_time": "2019-12-21T15:00:44.351028Z"
    }
   },
   "outputs": [],
   "source": [
    "with open('/path/yourgoogle/.apikey.txt') as f:\n",
    "    api_key = f.readline()"
   ]
  },
  {
   "cell_type": "code",
   "execution_count": 153,
   "metadata": {
    "ExecuteTime": {
     "end_time": "2019-12-21T15:01:14.044919Z",
     "start_time": "2019-12-21T15:01:14.039529Z"
    }
   },
   "outputs": [],
   "source": [
    "figure_layout = {\n",
    "'width': '600px',\n",
    "'height': '600px',\n",
    "'border': '1px solid black',\n",
    "'padding': '1px'}"
   ]
  },
  {
   "cell_type": "code",
   "execution_count": 154,
   "metadata": {
    "ExecuteTime": {
     "end_time": "2019-12-21T15:01:14.832580Z",
     "start_time": "2019-12-21T15:01:14.781402Z"
    }
   },
   "outputs": [],
   "source": [
    "gmaps.configure(api_key=api_key)\n",
    "gmaps.figure(map_type='TERRAIN');"
   ]
  },
  {
   "cell_type": "code",
   "execution_count": 155,
   "metadata": {
    "ExecuteTime": {
     "end_time": "2019-12-21T15:01:33.044733Z",
     "start_time": "2019-12-21T15:01:30.952411Z"
    }
   },
   "outputs": [],
   "source": [
    "df = df.groupby('duration_sec').mean().sort_values('duration_sec').tail(1000)"
   ]
  },
  {
   "cell_type": "code",
   "execution_count": 156,
   "metadata": {
    "ExecuteTime": {
     "end_time": "2019-12-21T15:01:33.058758Z",
     "start_time": "2019-12-21T15:01:33.047417Z"
    }
   },
   "outputs": [],
   "source": [
    "df3 = df[['start_station_latitude', 'start_station_longitude']]\n",
    "df4 = df[['end_station_latitude', 'end_station_longitude']]"
   ]
  },
  {
   "cell_type": "code",
   "execution_count": 158,
   "metadata": {
    "ExecuteTime": {
     "end_time": "2019-12-21T15:02:15.078018Z",
     "start_time": "2019-12-21T15:02:07.823960Z"
    }
   },
   "outputs": [
    {
     "data": {
      "application/vnd.jupyter.widget-view+json": {
       "model_id": "fe4f8516a0ab4bb597c3a5985b951208",
       "version_major": 2,
       "version_minor": 0
      },
      "text/plain": [
       "Figure(layout=FigureLayout(border='1px solid black', height='600px', padding='1px', width='600px'))"
      ]
     },
     "metadata": {},
     "output_type": "display_data"
    }
   ],
   "source": [
    "layer_1 = gmaps.symbol_layer(\n",
    "    df3,\n",
    "    fill_color='rgba(150,0,0,0)',\n",
    "    stroke_color='rgba(150,0,0,0.1)',\n",
    "    scale=4,\n",
    ")\n",
    "layer_2 = gmaps.symbol_layer(\n",
    "    df4,\n",
    "    fill_color='rgba(0,0,150,0)',\n",
    "    stroke_color='rgba(0,0,150,1)',\n",
    "    scale=2,\n",
    ")\n",
    "fig = gmaps.figure(layout=figure_layout,map_type='TERRAIN')\n",
    "fig.add_layer(layer_1)\n",
    "fig.add_layer(layer_2)\n",
    "fig\n",
    "# red circle indicate the starting station, in inner blue fill indicates the end station"
   ]
  },
  {
   "cell_type": "markdown",
   "metadata": {},
   "source": [
    "- Most of visited stations are on Market St., which also have a Metro \n",
    "- Some stations are around the shoreline near the Bay"
   ]
  },
  {
   "cell_type": "markdown",
   "metadata": {},
   "source": [
    "<a id=\"summary\"></a>\n",
    "# 5. Summary"
   ]
  },
  {
   "cell_type": "markdown",
   "metadata": {},
   "source": [
    "1. Riders used the bike more on summers than in the winter in the same year\n",
    "2. Customer used the bike during the weekends, and Subscribers on on the commute time during weekdays\n",
    "3. The aggregate ride time of the Subscriber is more than Custommer. \n",
    "4. On average, the riders travels about 1.5 km per trip and about 8 km/h\n",
    "5. The most visited stations placed along the Metro and some near the shoreline by the Bay. This make sense that the bikes were used for a short commute and for pleasure"
   ]
  },
  {
   "cell_type": "code",
   "execution_count": null,
   "metadata": {},
   "outputs": [],
   "source": []
  }
 ],
 "metadata": {
  "kernelspec": {
   "display_name": "Python3.6",
   "language": "python",
   "name": "python3.6"
  },
  "language_info": {
   "codemirror_mode": {
    "name": "ipython",
    "version": 3
   },
   "file_extension": ".py",
   "mimetype": "text/x-python",
   "name": "python",
   "nbconvert_exporter": "python",
   "pygments_lexer": "ipython3",
   "version": "3.6.8"
  },
  "toc": {
   "base_numbering": 1,
   "nav_menu": {},
   "number_sections": false,
   "sideBar": true,
   "skip_h1_title": false,
   "title_cell": "Table of Contents",
   "title_sidebar": "Contents",
   "toc_cell": false,
   "toc_position": {
    "height": "calc(100% - 180px)",
    "left": "10px",
    "top": "150px",
    "width": "384px"
   },
   "toc_section_display": true,
   "toc_window_display": true
  }
 },
 "nbformat": 4,
 "nbformat_minor": 2
}
